{
 "cells": [
  {
   "metadata": {},
   "cell_type": "markdown",
   "source": "# Identifying the relationship between the Fair Market Rates and Consumer Price Index of a Metro area",
   "id": "4da365e490464135"
  },
  {
   "metadata": {
    "ExecuteTime": {
     "end_time": "2024-04-25T03:45:05.599712Z",
     "start_time": "2024-04-25T03:45:04.651966Z"
    }
   },
   "cell_type": "code",
   "source": [
    "import fetchData\n",
    "import pandas as pd\n",
    "from datetime import datetime\n",
    "import matplotlib.pyplot as plt\n",
    "from sklearn.preprocessing import MinMaxScaler"
   ],
   "id": "e41409fa3d692363",
   "outputs": [],
   "execution_count": 62
  },
  {
   "metadata": {},
   "cell_type": "markdown",
   "source": "## Data Preparation",
   "id": "ce577b6aa0c32c9d"
  },
  {
   "metadata": {
    "ExecuteTime": {
     "end_time": "2024-04-24T22:57:18.322538Z",
     "start_time": "2024-04-24T22:57:18.317770Z"
    }
   },
   "cell_type": "code",
   "source": [
    "API_file = 'API_Config.ini'\n",
    "BLS_area_codes = 'Data/BLS/cu.area.txt'\n",
    "analysis_start_year = 2014\n",
    "analysis_end_year = 2024"
   ],
   "id": "4b60209edf997316",
   "outputs": [],
   "execution_count": 2
  },
  {
   "metadata": {},
   "cell_type": "markdown",
   "source": "### Loading the list of metro areas whose CPI data is present in the Bureau of Labour Statistics database",
   "id": "73a5961b5bb11732"
  },
  {
   "metadata": {
    "ExecuteTime": {
     "end_time": "2024-04-24T22:57:19.487907Z",
     "start_time": "2024-04-24T22:57:19.454264Z"
    }
   },
   "cell_type": "code",
   "source": [
    "#fetching series id's for every metro area available in the Bureau of Labour Statistic's database\n",
    "series_id = fetchData.get_bls_series_id(metro_code_file=BLS_area_codes)\n",
    "series_id.head()"
   ],
   "id": "57049cac8068fe1",
   "outputs": [
    {
     "data": {
      "text/plain": [
       "     area_code                       area_name   area_state\n",
       "1  CUURS11ASA0         Boston-Cambridge-Newton        MA-NH\n",
       "2  CUURS12ASA0     New York-Newark-Jersey City     NY-NJ-PA\n",
       "3  CUURS12BSA0  Philadelphia-Camden-Wilmington  PA-NJ-DE-MD\n",
       "5  CUURS23ASA0        Chicago-Naperville-Elgin     IL-IN-WI\n",
       "6  CUURS23BSA0         Detroit-Warren-Dearborn           MI"
      ],
      "text/html": [
       "<div>\n",
       "<style scoped>\n",
       "    .dataframe tbody tr th:only-of-type {\n",
       "        vertical-align: middle;\n",
       "    }\n",
       "\n",
       "    .dataframe tbody tr th {\n",
       "        vertical-align: top;\n",
       "    }\n",
       "\n",
       "    .dataframe thead th {\n",
       "        text-align: right;\n",
       "    }\n",
       "</style>\n",
       "<table border=\"1\" class=\"dataframe\">\n",
       "  <thead>\n",
       "    <tr style=\"text-align: right;\">\n",
       "      <th></th>\n",
       "      <th>area_code</th>\n",
       "      <th>area_name</th>\n",
       "      <th>area_state</th>\n",
       "    </tr>\n",
       "  </thead>\n",
       "  <tbody>\n",
       "    <tr>\n",
       "      <th>1</th>\n",
       "      <td>CUURS11ASA0</td>\n",
       "      <td>Boston-Cambridge-Newton</td>\n",
       "      <td>MA-NH</td>\n",
       "    </tr>\n",
       "    <tr>\n",
       "      <th>2</th>\n",
       "      <td>CUURS12ASA0</td>\n",
       "      <td>New York-Newark-Jersey City</td>\n",
       "      <td>NY-NJ-PA</td>\n",
       "    </tr>\n",
       "    <tr>\n",
       "      <th>3</th>\n",
       "      <td>CUURS12BSA0</td>\n",
       "      <td>Philadelphia-Camden-Wilmington</td>\n",
       "      <td>PA-NJ-DE-MD</td>\n",
       "    </tr>\n",
       "    <tr>\n",
       "      <th>5</th>\n",
       "      <td>CUURS23ASA0</td>\n",
       "      <td>Chicago-Naperville-Elgin</td>\n",
       "      <td>IL-IN-WI</td>\n",
       "    </tr>\n",
       "    <tr>\n",
       "      <th>6</th>\n",
       "      <td>CUURS23BSA0</td>\n",
       "      <td>Detroit-Warren-Dearborn</td>\n",
       "      <td>MI</td>\n",
       "    </tr>\n",
       "  </tbody>\n",
       "</table>\n",
       "</div>"
      ]
     },
     "execution_count": 3,
     "metadata": {},
     "output_type": "execute_result"
    }
   ],
   "execution_count": 3
  },
  {
   "metadata": {
    "ExecuteTime": {
     "end_time": "2024-04-24T22:57:20.528506Z",
     "start_time": "2024-04-24T22:57:20.521630Z"
    }
   },
   "cell_type": "code",
   "source": "series_id.isna().sum()",
   "id": "96a0788aeb31cf19",
   "outputs": [
    {
     "data": {
      "text/plain": [
       "area_code     0\n",
       "area_name     0\n",
       "area_state    0\n",
       "dtype: int64"
      ]
     },
     "execution_count": 4,
     "metadata": {},
     "output_type": "execute_result"
    }
   ],
   "execution_count": 4
  },
  {
   "metadata": {},
   "cell_type": "markdown",
   "source": "The dataset has no missing values",
   "id": "d2fff5f1ce71979"
  },
  {
   "metadata": {},
   "cell_type": "markdown",
   "source": "#### Cleaning the CPI Data",
   "id": "dc2a0210269cc4ce"
  },
  {
   "metadata": {
    "ExecuteTime": {
     "end_time": "2024-04-24T22:57:22.320433Z",
     "start_time": "2024-04-24T22:57:22.313453Z"
    }
   },
   "cell_type": "code",
   "source": "series_id['area_state'].unique()",
   "id": "71f3fa896f1b606b",
   "outputs": [
    {
     "data": {
      "text/plain": [
       "<StringArray>\n",
       "[      'MA-NH',    'NY-NJ-PA', 'PA-NJ-DE-MD',    'IL-IN-WI',          'MI',\n",
       "       'MN-WI',       'MO-IL', 'DC-VA-MD-WV',          'FL',          'GA',\n",
       "          'MD',          'TX',          'AZ',          'CO',          'CA',\n",
       "          'WA',      'Hawaii',      'Alaska']\n",
       "Length: 18, dtype: string"
      ]
     },
     "execution_count": 5,
     "metadata": {},
     "output_type": "execute_result"
    }
   ],
   "execution_count": 5
  },
  {
   "metadata": {},
   "cell_type": "markdown",
   "source": "On further inspection, there are some rows for which the state names [Hawaii and Alaska] are not abbreviated. This can later cause an issue while merging this dataset with the HUD dataset.",
   "id": "3983c08b4a2342fd"
  },
  {
   "metadata": {
    "ExecuteTime": {
     "end_time": "2024-04-24T22:57:23.430776Z",
     "start_time": "2024-04-24T22:57:23.420525Z"
    }
   },
   "cell_type": "code",
   "source": [
    "series_id.loc[series_id['area_state'] == 'Hawaii','area_state'] = 'HI'\n",
    "series_id.loc[series_id['area_state'] == 'Alaska','area_state'] = 'AK'\n",
    "series_id['area_state'].unique()"
   ],
   "id": "5b21b9cff2940ba5",
   "outputs": [
    {
     "data": {
      "text/plain": [
       "<StringArray>\n",
       "[      'MA-NH',    'NY-NJ-PA', 'PA-NJ-DE-MD',    'IL-IN-WI',          'MI',\n",
       "       'MN-WI',       'MO-IL', 'DC-VA-MD-WV',          'FL',          'GA',\n",
       "          'MD',          'TX',          'AZ',          'CO',          'CA',\n",
       "          'WA',          'HI',          'AK']\n",
       "Length: 18, dtype: string"
      ]
     },
     "execution_count": 6,
     "metadata": {},
     "output_type": "execute_result"
    }
   ],
   "execution_count": 6
  },
  {
   "metadata": {},
   "cell_type": "markdown",
   "source": "After processing, the dataframe has no missing / incorrect values.",
   "id": "5fd2a1f1da93cbe0"
  },
  {
   "metadata": {},
   "cell_type": "markdown",
   "source": "### Loading the list of metro areas whose FMR data is available in the HUD database",
   "id": "5e167f7700ecf554"
  },
  {
   "metadata": {
    "ExecuteTime": {
     "end_time": "2024-04-24T22:57:25.736161Z",
     "start_time": "2024-04-24T22:57:24.921167Z"
    }
   },
   "cell_type": "code",
   "source": [
    "hud_metro_data = fetchData.get_metro_codes_hud(api_config=API_file)\n",
    "hud_metro_data.head()"
   ],
   "id": "9bc29c64a0b545d5",
   "outputs": [
    {
     "data": {
      "text/plain": [
       "          cbsa_code          area_name area_state\n",
       "0  METRO10180M10180            Abilene         TX\n",
       "1  METRO29180N22001      Acadia Parish         LA\n",
       "2  METRO10380M10380  Aguadilla-Isabela         PR\n",
       "3  METRO10420M10420              Akron         OH\n",
       "4  METRO10500M10500             Albany         GA"
      ],
      "text/html": [
       "<div>\n",
       "<style scoped>\n",
       "    .dataframe tbody tr th:only-of-type {\n",
       "        vertical-align: middle;\n",
       "    }\n",
       "\n",
       "    .dataframe tbody tr th {\n",
       "        vertical-align: top;\n",
       "    }\n",
       "\n",
       "    .dataframe thead th {\n",
       "        text-align: right;\n",
       "    }\n",
       "</style>\n",
       "<table border=\"1\" class=\"dataframe\">\n",
       "  <thead>\n",
       "    <tr style=\"text-align: right;\">\n",
       "      <th></th>\n",
       "      <th>cbsa_code</th>\n",
       "      <th>area_name</th>\n",
       "      <th>area_state</th>\n",
       "    </tr>\n",
       "  </thead>\n",
       "  <tbody>\n",
       "    <tr>\n",
       "      <th>0</th>\n",
       "      <td>METRO10180M10180</td>\n",
       "      <td>Abilene</td>\n",
       "      <td>TX</td>\n",
       "    </tr>\n",
       "    <tr>\n",
       "      <th>1</th>\n",
       "      <td>METRO29180N22001</td>\n",
       "      <td>Acadia Parish</td>\n",
       "      <td>LA</td>\n",
       "    </tr>\n",
       "    <tr>\n",
       "      <th>2</th>\n",
       "      <td>METRO10380M10380</td>\n",
       "      <td>Aguadilla-Isabela</td>\n",
       "      <td>PR</td>\n",
       "    </tr>\n",
       "    <tr>\n",
       "      <th>3</th>\n",
       "      <td>METRO10420M10420</td>\n",
       "      <td>Akron</td>\n",
       "      <td>OH</td>\n",
       "    </tr>\n",
       "    <tr>\n",
       "      <th>4</th>\n",
       "      <td>METRO10500M10500</td>\n",
       "      <td>Albany</td>\n",
       "      <td>GA</td>\n",
       "    </tr>\n",
       "  </tbody>\n",
       "</table>\n",
       "</div>"
      ]
     },
     "execution_count": 7,
     "metadata": {},
     "output_type": "execute_result"
    }
   ],
   "execution_count": 7
  },
  {
   "metadata": {
    "ExecuteTime": {
     "end_time": "2024-04-24T22:57:27.095200Z",
     "start_time": "2024-04-24T22:57:27.087054Z"
    }
   },
   "cell_type": "code",
   "source": "hud_metro_data.isna().sum()",
   "id": "799e15435d2a5db",
   "outputs": [
    {
     "data": {
      "text/plain": [
       "cbsa_code     0\n",
       "area_name     0\n",
       "area_state    0\n",
       "dtype: int64"
      ]
     },
     "execution_count": 8,
     "metadata": {},
     "output_type": "execute_result"
    }
   ],
   "execution_count": 8
  },
  {
   "metadata": {},
   "cell_type": "markdown",
   "source": "This dataset has no missing values.",
   "id": "c28554d6ea3de3d6"
  },
  {
   "metadata": {},
   "cell_type": "markdown",
   "source": "#### Cleaning the FMR data",
   "id": "5ff1f086a8eafa0"
  },
  {
   "metadata": {
    "ExecuteTime": {
     "end_time": "2024-04-24T22:57:29.857445Z",
     "start_time": "2024-04-24T22:57:29.850465Z"
    }
   },
   "cell_type": "code",
   "source": "hud_metro_data['area_state'].unique()",
   "id": "e788dc70d666a935",
   "outputs": [
    {
     "data": {
      "text/plain": [
       "<StringArray>\n",
       "[          'TX',           'LA',           'PR',           'OH',\n",
       "           'GA',           'OR',           'NY',           'NM',\n",
       "           'KY',           'PA',           'IA',           'AK',\n",
       "           'IN',           'SC',           'MI',           'AL',\n",
       "           'WI',           'NC',           'NJ',        'GA-SC',\n",
       "           'FL',           'CA',           'MD',           'ME',\n",
       "           'MA',           'MO',           'WA',           'MS',\n",
       "           'MT',           'ND',           'VA',           'IL',\n",
       "           'ID',           'WV',        'MA-NH',           'CO',\n",
       "           'UT',           'CT',           'VT',           'TN',\n",
       "        'MO-IL',           'NV',           'WY',        'NC-SC',\n",
       "        'TN-GA',     'OH-KY-IN',        'TN-KY',        'GA-AL',\n",
       "           'OK',        'MD-WV',           'SD',        'IA-IL',\n",
       "           'DE',        'MN-WI',        'IN-KY',        'ND-MN',\n",
       "           'AR',           'MN',           'AZ',        'AR-OK',\n",
       "           'NE',           'NH',     'WV-KY-OH',           'HI',\n",
       "        'MO-KS',           'KS',        'TN-VA',        'WI-MN',\n",
       "        'ID-WA',        'UT-ID',        'KY-IN',     'TN-MS-AR',\n",
       "           'RI',        'NE-IA',  'PA-NJ-DE-MD',        'OR-WA',\n",
       "        'RI-MA',     'IA-NE-SD', 'TX-Texarkana',        'VA-NC',\n",
       "     'DC-VA-MD',        'WV-OH',        'VA-WV']\n",
       "Length: 83, dtype: string"
      ]
     },
     "execution_count": 9,
     "metadata": {},
     "output_type": "execute_result"
    }
   ],
   "execution_count": 9
  },
  {
   "metadata": {},
   "cell_type": "markdown",
   "source": "On further inspection, there is a row for which the state name [TX-Texarkana] is not correct. This can later cause an issue while merging this dataset with the BLS dataset.",
   "id": "ece77946b4ee80b6"
  },
  {
   "metadata": {
    "ExecuteTime": {
     "end_time": "2024-04-24T22:57:31.350543Z",
     "start_time": "2024-04-24T22:57:31.343180Z"
    }
   },
   "cell_type": "code",
   "source": "hud_metro_data.loc[hud_metro_data['area_state'] == 'TX-Texarkana', 'area_state'] = 'TX'",
   "id": "4b3e74a28da971b9",
   "outputs": [],
   "execution_count": 10
  },
  {
   "metadata": {},
   "cell_type": "markdown",
   "source": "After processing, the dataframe has no missing / incorrect values.",
   "id": "6bfb822966dc9fd4"
  },
  {
   "metadata": {},
   "cell_type": "markdown",
   "source": "### Merging the two datasets to get the metro areas for which both the CPI and FMR data is available.",
   "id": "6260e58da9be9beb"
  },
  {
   "metadata": {
    "ExecuteTime": {
     "end_time": "2024-04-24T22:57:33.705957Z",
     "start_time": "2024-04-24T22:57:33.693933Z"
    }
   },
   "cell_type": "code",
   "source": [
    "merge_data = pd.merge(series_id, hud_metro_data, on='area_name', how='left', suffixes=('_BLS', '_HUD'))\n",
    "merge_data.isna().sum()"
   ],
   "id": "4f361bd100cbbe44",
   "outputs": [
    {
     "data": {
      "text/plain": [
       "area_code          0\n",
       "area_name          0\n",
       "area_state_BLS     0\n",
       "cbsa_code         12\n",
       "area_state_HUD    12\n",
       "dtype: int64"
      ]
     },
     "execution_count": 11,
     "metadata": {},
     "output_type": "execute_result"
    }
   ],
   "execution_count": 11
  },
  {
   "metadata": {},
   "cell_type": "markdown",
   "source": "There are 12 rows from the BLS dataset that have no corresponding metro area in the HUD dataset. Ideally that should not be the case, HUD's database is quite extensive.",
   "id": "abc8b335a8dabe47"
  },
  {
   "metadata": {
    "ExecuteTime": {
     "end_time": "2024-04-24T22:57:35.134011Z",
     "start_time": "2024-04-24T22:57:35.120634Z"
    }
   },
   "cell_type": "code",
   "source": "merge_data[merge_data['cbsa_code'].isna()]",
   "id": "51b2b8e5d11757ae",
   "outputs": [
    {
     "data": {
      "text/plain": [
       "      area_code                              area_name area_state_BLS  \\\n",
       "0   CUURS11ASA0                Boston-Cambridge-Newton          MA-NH   \n",
       "1   CUURS12ASA0            New York-Newark-Jersey City       NY-NJ-PA   \n",
       "3   CUURS23ASA0               Chicago-Naperville-Elgin       IL-IN-WI   \n",
       "4   CUURS23BSA0                Detroit-Warren-Dearborn             MI   \n",
       "5   CUURS24ASA0        Minneapolis-St.Paul-Bloomington          MN-WI   \n",
       "8   CUURS35BSA0  Miami-Fort Lauderdale-West Palm Beach             FL   \n",
       "12  CUURS37ASA0            Dallas-Fort Worth-Arlington             TX   \n",
       "16  CUURS49ASA0         Los Angeles-Long Beach-Anaheim             CA   \n",
       "17  CUURS49BSA0          San Francisco-Oakland-Hayward             CA   \n",
       "19  CUURS49DSA0                Seattle-Tacoma-Bellevue             WA   \n",
       "21  CUURS49FSA0                                  Urban             HI   \n",
       "22  CUURS49GSA0                                  Urban             AK   \n",
       "\n",
       "   cbsa_code area_state_HUD  \n",
       "0       <NA>           <NA>  \n",
       "1       <NA>           <NA>  \n",
       "3       <NA>           <NA>  \n",
       "4       <NA>           <NA>  \n",
       "5       <NA>           <NA>  \n",
       "8       <NA>           <NA>  \n",
       "12      <NA>           <NA>  \n",
       "16      <NA>           <NA>  \n",
       "17      <NA>           <NA>  \n",
       "19      <NA>           <NA>  \n",
       "21      <NA>           <NA>  \n",
       "22      <NA>           <NA>  "
      ],
      "text/html": [
       "<div>\n",
       "<style scoped>\n",
       "    .dataframe tbody tr th:only-of-type {\n",
       "        vertical-align: middle;\n",
       "    }\n",
       "\n",
       "    .dataframe tbody tr th {\n",
       "        vertical-align: top;\n",
       "    }\n",
       "\n",
       "    .dataframe thead th {\n",
       "        text-align: right;\n",
       "    }\n",
       "</style>\n",
       "<table border=\"1\" class=\"dataframe\">\n",
       "  <thead>\n",
       "    <tr style=\"text-align: right;\">\n",
       "      <th></th>\n",
       "      <th>area_code</th>\n",
       "      <th>area_name</th>\n",
       "      <th>area_state_BLS</th>\n",
       "      <th>cbsa_code</th>\n",
       "      <th>area_state_HUD</th>\n",
       "    </tr>\n",
       "  </thead>\n",
       "  <tbody>\n",
       "    <tr>\n",
       "      <th>0</th>\n",
       "      <td>CUURS11ASA0</td>\n",
       "      <td>Boston-Cambridge-Newton</td>\n",
       "      <td>MA-NH</td>\n",
       "      <td>&lt;NA&gt;</td>\n",
       "      <td>&lt;NA&gt;</td>\n",
       "    </tr>\n",
       "    <tr>\n",
       "      <th>1</th>\n",
       "      <td>CUURS12ASA0</td>\n",
       "      <td>New York-Newark-Jersey City</td>\n",
       "      <td>NY-NJ-PA</td>\n",
       "      <td>&lt;NA&gt;</td>\n",
       "      <td>&lt;NA&gt;</td>\n",
       "    </tr>\n",
       "    <tr>\n",
       "      <th>3</th>\n",
       "      <td>CUURS23ASA0</td>\n",
       "      <td>Chicago-Naperville-Elgin</td>\n",
       "      <td>IL-IN-WI</td>\n",
       "      <td>&lt;NA&gt;</td>\n",
       "      <td>&lt;NA&gt;</td>\n",
       "    </tr>\n",
       "    <tr>\n",
       "      <th>4</th>\n",
       "      <td>CUURS23BSA0</td>\n",
       "      <td>Detroit-Warren-Dearborn</td>\n",
       "      <td>MI</td>\n",
       "      <td>&lt;NA&gt;</td>\n",
       "      <td>&lt;NA&gt;</td>\n",
       "    </tr>\n",
       "    <tr>\n",
       "      <th>5</th>\n",
       "      <td>CUURS24ASA0</td>\n",
       "      <td>Minneapolis-St.Paul-Bloomington</td>\n",
       "      <td>MN-WI</td>\n",
       "      <td>&lt;NA&gt;</td>\n",
       "      <td>&lt;NA&gt;</td>\n",
       "    </tr>\n",
       "    <tr>\n",
       "      <th>8</th>\n",
       "      <td>CUURS35BSA0</td>\n",
       "      <td>Miami-Fort Lauderdale-West Palm Beach</td>\n",
       "      <td>FL</td>\n",
       "      <td>&lt;NA&gt;</td>\n",
       "      <td>&lt;NA&gt;</td>\n",
       "    </tr>\n",
       "    <tr>\n",
       "      <th>12</th>\n",
       "      <td>CUURS37ASA0</td>\n",
       "      <td>Dallas-Fort Worth-Arlington</td>\n",
       "      <td>TX</td>\n",
       "      <td>&lt;NA&gt;</td>\n",
       "      <td>&lt;NA&gt;</td>\n",
       "    </tr>\n",
       "    <tr>\n",
       "      <th>16</th>\n",
       "      <td>CUURS49ASA0</td>\n",
       "      <td>Los Angeles-Long Beach-Anaheim</td>\n",
       "      <td>CA</td>\n",
       "      <td>&lt;NA&gt;</td>\n",
       "      <td>&lt;NA&gt;</td>\n",
       "    </tr>\n",
       "    <tr>\n",
       "      <th>17</th>\n",
       "      <td>CUURS49BSA0</td>\n",
       "      <td>San Francisco-Oakland-Hayward</td>\n",
       "      <td>CA</td>\n",
       "      <td>&lt;NA&gt;</td>\n",
       "      <td>&lt;NA&gt;</td>\n",
       "    </tr>\n",
       "    <tr>\n",
       "      <th>19</th>\n",
       "      <td>CUURS49DSA0</td>\n",
       "      <td>Seattle-Tacoma-Bellevue</td>\n",
       "      <td>WA</td>\n",
       "      <td>&lt;NA&gt;</td>\n",
       "      <td>&lt;NA&gt;</td>\n",
       "    </tr>\n",
       "    <tr>\n",
       "      <th>21</th>\n",
       "      <td>CUURS49FSA0</td>\n",
       "      <td>Urban</td>\n",
       "      <td>HI</td>\n",
       "      <td>&lt;NA&gt;</td>\n",
       "      <td>&lt;NA&gt;</td>\n",
       "    </tr>\n",
       "    <tr>\n",
       "      <th>22</th>\n",
       "      <td>CUURS49GSA0</td>\n",
       "      <td>Urban</td>\n",
       "      <td>AK</td>\n",
       "      <td>&lt;NA&gt;</td>\n",
       "      <td>&lt;NA&gt;</td>\n",
       "    </tr>\n",
       "  </tbody>\n",
       "</table>\n",
       "</div>"
      ]
     },
     "execution_count": 12,
     "metadata": {},
     "output_type": "execute_result"
    }
   ],
   "execution_count": 12
  },
  {
   "metadata": {
    "ExecuteTime": {
     "end_time": "2024-04-24T22:57:35.947428Z",
     "start_time": "2024-04-24T22:57:35.937422Z"
    }
   },
   "cell_type": "code",
   "source": "hud_metro_data[hud_metro_data['area_name'].str.contains('Boston')]",
   "id": "e096bb8970412911",
   "outputs": [
    {
     "data": {
      "text/plain": [
       "           cbsa_code                area_name area_state\n",
       "61  METRO14460MM1120  Boston-Cambridge-Quincy      MA-NH"
      ],
      "text/html": [
       "<div>\n",
       "<style scoped>\n",
       "    .dataframe tbody tr th:only-of-type {\n",
       "        vertical-align: middle;\n",
       "    }\n",
       "\n",
       "    .dataframe tbody tr th {\n",
       "        vertical-align: top;\n",
       "    }\n",
       "\n",
       "    .dataframe thead th {\n",
       "        text-align: right;\n",
       "    }\n",
       "</style>\n",
       "<table border=\"1\" class=\"dataframe\">\n",
       "  <thead>\n",
       "    <tr style=\"text-align: right;\">\n",
       "      <th></th>\n",
       "      <th>cbsa_code</th>\n",
       "      <th>area_name</th>\n",
       "      <th>area_state</th>\n",
       "    </tr>\n",
       "  </thead>\n",
       "  <tbody>\n",
       "    <tr>\n",
       "      <th>61</th>\n",
       "      <td>METRO14460MM1120</td>\n",
       "      <td>Boston-Cambridge-Quincy</td>\n",
       "      <td>MA-NH</td>\n",
       "    </tr>\n",
       "  </tbody>\n",
       "</table>\n",
       "</div>"
      ]
     },
     "execution_count": 13,
     "metadata": {},
     "output_type": "execute_result"
    }
   ],
   "execution_count": 13
  },
  {
   "metadata": {},
   "cell_type": "markdown",
   "source": "On further investigation, it is observed that the issue is arising due to some slight difference in the names. In this case, either the data from HUD or BLS is not correctly named. The names should not be different as they both are based on 'cbsa' codes. To resolve this, we can try to find the best possible match and proceed accordingly. If no match is found, then that row will be dropped.",
   "id": "a7cebe53a09c46b4"
  },
  {
   "metadata": {
    "ExecuteTime": {
     "end_time": "2024-04-24T22:57:37.625693Z",
     "start_time": "2024-04-24T22:57:37.596979Z"
    }
   },
   "cell_type": "code",
   "source": [
    "unmatched_indices = merge_data[merge_data['cbsa_code'].isna()].index\n",
    "unmatched_areas_metro = list(merge_data['area_name'][merge_data['cbsa_code'].isna()].apply(lambda x: x.split('-')[0]))\n",
    "unmatched_dict = dict(zip(unmatched_indices, unmatched_areas_metro))\n",
    "for i in unmatched_indices:\n",
    "    hud_area = hud_metro_data[hud_metro_data['area_name'].str.contains(unmatched_dict[i])]\n",
    "    if len(hud_area) > 1:\n",
    "        hud_area = hud_area[hud_area['area_state'] == merge_data['area_state_BLS'].loc[i]]\n",
    "    if len(hud_area) == 1:\n",
    "        merge_data.loc[i, 'cbsa_code'] = hud_area['cbsa_code'][hud_area['area_name'].str.contains(unmatched_dict[i])].values\n",
    "merge_data[merge_data['cbsa_code'].isna()]"
   ],
   "id": "9ef3b1f4289d9d28",
   "outputs": [
    {
     "data": {
      "text/plain": [
       "      area_code area_name area_state_BLS cbsa_code area_state_HUD\n",
       "22  CUURS49GSA0     Urban             AK      <NA>           <NA>"
      ],
      "text/html": [
       "<div>\n",
       "<style scoped>\n",
       "    .dataframe tbody tr th:only-of-type {\n",
       "        vertical-align: middle;\n",
       "    }\n",
       "\n",
       "    .dataframe tbody tr th {\n",
       "        vertical-align: top;\n",
       "    }\n",
       "\n",
       "    .dataframe thead th {\n",
       "        text-align: right;\n",
       "    }\n",
       "</style>\n",
       "<table border=\"1\" class=\"dataframe\">\n",
       "  <thead>\n",
       "    <tr style=\"text-align: right;\">\n",
       "      <th></th>\n",
       "      <th>area_code</th>\n",
       "      <th>area_name</th>\n",
       "      <th>area_state_BLS</th>\n",
       "      <th>cbsa_code</th>\n",
       "      <th>area_state_HUD</th>\n",
       "    </tr>\n",
       "  </thead>\n",
       "  <tbody>\n",
       "    <tr>\n",
       "      <th>22</th>\n",
       "      <td>CUURS49GSA0</td>\n",
       "      <td>Urban</td>\n",
       "      <td>AK</td>\n",
       "      <td>&lt;NA&gt;</td>\n",
       "      <td>&lt;NA&gt;</td>\n",
       "    </tr>\n",
       "  </tbody>\n",
       "</table>\n",
       "</div>"
      ]
     },
     "execution_count": 14,
     "metadata": {},
     "output_type": "execute_result"
    }
   ],
   "execution_count": 14
  },
  {
   "metadata": {
    "ExecuteTime": {
     "end_time": "2024-04-24T22:57:38.212387Z",
     "start_time": "2024-04-24T22:57:38.202507Z"
    }
   },
   "cell_type": "code",
   "source": "merge_data = merge_data.dropna(subset=['cbsa_code']).drop(columns=['area_state_HUD']).rename(columns={'area_state_BLS': 'area_state'})",
   "id": "c36a8bc0c45d0552",
   "outputs": [],
   "execution_count": 15
  },
  {
   "metadata": {},
   "cell_type": "markdown",
   "source": "One row (Urban Alaska) is dropped as there is no corresponding metro area in the HUD dataset.",
   "id": "1e499212f20a8ef3"
  },
  {
   "metadata": {},
   "cell_type": "markdown",
   "source": "### Selecting a metro area for analysis",
   "id": "b5b8e6923264472b"
  },
  {
   "metadata": {
    "ExecuteTime": {
     "end_time": "2024-04-24T22:57:41.825162Z",
     "start_time": "2024-04-24T22:57:41.811514Z"
    }
   },
   "cell_type": "code",
   "source": [
    "print('following is the list of available metro_areas:')\n",
    "merge_data.head(100)"
   ],
   "id": "48781aafea2d7fa1",
   "outputs": [
    {
     "name": "stdout",
     "output_type": "stream",
     "text": [
      "following is the list of available metro_areas:\n"
     ]
    },
    {
     "data": {
      "text/plain": [
       "      area_code                              area_name   area_state  \\\n",
       "0   CUURS11ASA0                Boston-Cambridge-Newton        MA-NH   \n",
       "1   CUURS12ASA0            New York-Newark-Jersey City     NY-NJ-PA   \n",
       "2   CUURS12BSA0         Philadelphia-Camden-Wilmington  PA-NJ-DE-MD   \n",
       "3   CUURS23ASA0               Chicago-Naperville-Elgin     IL-IN-WI   \n",
       "4   CUURS23BSA0                Detroit-Warren-Dearborn           MI   \n",
       "5   CUURS24ASA0        Minneapolis-St.Paul-Bloomington        MN-WI   \n",
       "6   CUURS24BSA0                              St. Louis        MO-IL   \n",
       "7   CUURS35ASA0        Washington-Arlington-Alexandria  DC-VA-MD-WV   \n",
       "8   CUURS35BSA0  Miami-Fort Lauderdale-West Palm Beach           FL   \n",
       "9   CUURS35CSA0          Atlanta-Sandy Springs-Roswell           GA   \n",
       "10  CUURS35DSA0        Tampa-St. Petersburg-Clearwater           FL   \n",
       "11  CUURS35ESA0              Baltimore-Columbia-Towson           MD   \n",
       "12  CUURS37ASA0            Dallas-Fort Worth-Arlington           TX   \n",
       "13  CUURS37BSA0       Houston-The Woodlands-Sugar Land           TX   \n",
       "14  CUURS48ASA0                Phoenix-Mesa-Scottsdale           AZ   \n",
       "15  CUURS48BSA0                 Denver-Aurora-Lakewood           CO   \n",
       "16  CUURS49ASA0         Los Angeles-Long Beach-Anaheim           CA   \n",
       "17  CUURS49BSA0          San Francisco-Oakland-Hayward           CA   \n",
       "18  CUURS49CSA0       Riverside-San Bernardino-Ontario           CA   \n",
       "19  CUURS49DSA0                Seattle-Tacoma-Bellevue           WA   \n",
       "20  CUURS49ESA0                     San Diego-Carlsbad           CA   \n",
       "21  CUURS49FSA0                                  Urban           HI   \n",
       "\n",
       "           cbsa_code  \n",
       "0   METRO14460MM1120  \n",
       "1   METRO35620MM5600  \n",
       "2   METRO37980M37980  \n",
       "3   METRO16980M16980  \n",
       "4   METRO19820M19820  \n",
       "5   METRO33460M33460  \n",
       "6   METRO41180M41180  \n",
       "7   METRO47900M47900  \n",
       "8   METRO33100MM5000  \n",
       "9   METRO12060M12060  \n",
       "10  METRO45300M45300  \n",
       "11  METRO12580M12580  \n",
       "12  METRO19100M19100  \n",
       "13  METRO26420M26420  \n",
       "14  METRO38060M38060  \n",
       "15  METRO19740M19740  \n",
       "16  METRO31080MM4480  \n",
       "17  METRO41860MM7360  \n",
       "18  METRO40140M40140  \n",
       "19  METRO42660MM7600  \n",
       "20  METRO41740M41740  \n",
       "21  METRO46520M46520  "
      ],
      "text/html": [
       "<div>\n",
       "<style scoped>\n",
       "    .dataframe tbody tr th:only-of-type {\n",
       "        vertical-align: middle;\n",
       "    }\n",
       "\n",
       "    .dataframe tbody tr th {\n",
       "        vertical-align: top;\n",
       "    }\n",
       "\n",
       "    .dataframe thead th {\n",
       "        text-align: right;\n",
       "    }\n",
       "</style>\n",
       "<table border=\"1\" class=\"dataframe\">\n",
       "  <thead>\n",
       "    <tr style=\"text-align: right;\">\n",
       "      <th></th>\n",
       "      <th>area_code</th>\n",
       "      <th>area_name</th>\n",
       "      <th>area_state</th>\n",
       "      <th>cbsa_code</th>\n",
       "    </tr>\n",
       "  </thead>\n",
       "  <tbody>\n",
       "    <tr>\n",
       "      <th>0</th>\n",
       "      <td>CUURS11ASA0</td>\n",
       "      <td>Boston-Cambridge-Newton</td>\n",
       "      <td>MA-NH</td>\n",
       "      <td>METRO14460MM1120</td>\n",
       "    </tr>\n",
       "    <tr>\n",
       "      <th>1</th>\n",
       "      <td>CUURS12ASA0</td>\n",
       "      <td>New York-Newark-Jersey City</td>\n",
       "      <td>NY-NJ-PA</td>\n",
       "      <td>METRO35620MM5600</td>\n",
       "    </tr>\n",
       "    <tr>\n",
       "      <th>2</th>\n",
       "      <td>CUURS12BSA0</td>\n",
       "      <td>Philadelphia-Camden-Wilmington</td>\n",
       "      <td>PA-NJ-DE-MD</td>\n",
       "      <td>METRO37980M37980</td>\n",
       "    </tr>\n",
       "    <tr>\n",
       "      <th>3</th>\n",
       "      <td>CUURS23ASA0</td>\n",
       "      <td>Chicago-Naperville-Elgin</td>\n",
       "      <td>IL-IN-WI</td>\n",
       "      <td>METRO16980M16980</td>\n",
       "    </tr>\n",
       "    <tr>\n",
       "      <th>4</th>\n",
       "      <td>CUURS23BSA0</td>\n",
       "      <td>Detroit-Warren-Dearborn</td>\n",
       "      <td>MI</td>\n",
       "      <td>METRO19820M19820</td>\n",
       "    </tr>\n",
       "    <tr>\n",
       "      <th>5</th>\n",
       "      <td>CUURS24ASA0</td>\n",
       "      <td>Minneapolis-St.Paul-Bloomington</td>\n",
       "      <td>MN-WI</td>\n",
       "      <td>METRO33460M33460</td>\n",
       "    </tr>\n",
       "    <tr>\n",
       "      <th>6</th>\n",
       "      <td>CUURS24BSA0</td>\n",
       "      <td>St. Louis</td>\n",
       "      <td>MO-IL</td>\n",
       "      <td>METRO41180M41180</td>\n",
       "    </tr>\n",
       "    <tr>\n",
       "      <th>7</th>\n",
       "      <td>CUURS35ASA0</td>\n",
       "      <td>Washington-Arlington-Alexandria</td>\n",
       "      <td>DC-VA-MD-WV</td>\n",
       "      <td>METRO47900M47900</td>\n",
       "    </tr>\n",
       "    <tr>\n",
       "      <th>8</th>\n",
       "      <td>CUURS35BSA0</td>\n",
       "      <td>Miami-Fort Lauderdale-West Palm Beach</td>\n",
       "      <td>FL</td>\n",
       "      <td>METRO33100MM5000</td>\n",
       "    </tr>\n",
       "    <tr>\n",
       "      <th>9</th>\n",
       "      <td>CUURS35CSA0</td>\n",
       "      <td>Atlanta-Sandy Springs-Roswell</td>\n",
       "      <td>GA</td>\n",
       "      <td>METRO12060M12060</td>\n",
       "    </tr>\n",
       "    <tr>\n",
       "      <th>10</th>\n",
       "      <td>CUURS35DSA0</td>\n",
       "      <td>Tampa-St. Petersburg-Clearwater</td>\n",
       "      <td>FL</td>\n",
       "      <td>METRO45300M45300</td>\n",
       "    </tr>\n",
       "    <tr>\n",
       "      <th>11</th>\n",
       "      <td>CUURS35ESA0</td>\n",
       "      <td>Baltimore-Columbia-Towson</td>\n",
       "      <td>MD</td>\n",
       "      <td>METRO12580M12580</td>\n",
       "    </tr>\n",
       "    <tr>\n",
       "      <th>12</th>\n",
       "      <td>CUURS37ASA0</td>\n",
       "      <td>Dallas-Fort Worth-Arlington</td>\n",
       "      <td>TX</td>\n",
       "      <td>METRO19100M19100</td>\n",
       "    </tr>\n",
       "    <tr>\n",
       "      <th>13</th>\n",
       "      <td>CUURS37BSA0</td>\n",
       "      <td>Houston-The Woodlands-Sugar Land</td>\n",
       "      <td>TX</td>\n",
       "      <td>METRO26420M26420</td>\n",
       "    </tr>\n",
       "    <tr>\n",
       "      <th>14</th>\n",
       "      <td>CUURS48ASA0</td>\n",
       "      <td>Phoenix-Mesa-Scottsdale</td>\n",
       "      <td>AZ</td>\n",
       "      <td>METRO38060M38060</td>\n",
       "    </tr>\n",
       "    <tr>\n",
       "      <th>15</th>\n",
       "      <td>CUURS48BSA0</td>\n",
       "      <td>Denver-Aurora-Lakewood</td>\n",
       "      <td>CO</td>\n",
       "      <td>METRO19740M19740</td>\n",
       "    </tr>\n",
       "    <tr>\n",
       "      <th>16</th>\n",
       "      <td>CUURS49ASA0</td>\n",
       "      <td>Los Angeles-Long Beach-Anaheim</td>\n",
       "      <td>CA</td>\n",
       "      <td>METRO31080MM4480</td>\n",
       "    </tr>\n",
       "    <tr>\n",
       "      <th>17</th>\n",
       "      <td>CUURS49BSA0</td>\n",
       "      <td>San Francisco-Oakland-Hayward</td>\n",
       "      <td>CA</td>\n",
       "      <td>METRO41860MM7360</td>\n",
       "    </tr>\n",
       "    <tr>\n",
       "      <th>18</th>\n",
       "      <td>CUURS49CSA0</td>\n",
       "      <td>Riverside-San Bernardino-Ontario</td>\n",
       "      <td>CA</td>\n",
       "      <td>METRO40140M40140</td>\n",
       "    </tr>\n",
       "    <tr>\n",
       "      <th>19</th>\n",
       "      <td>CUURS49DSA0</td>\n",
       "      <td>Seattle-Tacoma-Bellevue</td>\n",
       "      <td>WA</td>\n",
       "      <td>METRO42660MM7600</td>\n",
       "    </tr>\n",
       "    <tr>\n",
       "      <th>20</th>\n",
       "      <td>CUURS49ESA0</td>\n",
       "      <td>San Diego-Carlsbad</td>\n",
       "      <td>CA</td>\n",
       "      <td>METRO41740M41740</td>\n",
       "    </tr>\n",
       "    <tr>\n",
       "      <th>21</th>\n",
       "      <td>CUURS49FSA0</td>\n",
       "      <td>Urban</td>\n",
       "      <td>HI</td>\n",
       "      <td>METRO46520M46520</td>\n",
       "    </tr>\n",
       "  </tbody>\n",
       "</table>\n",
       "</div>"
      ]
     },
     "execution_count": 16,
     "metadata": {},
     "output_type": "execute_result"
    }
   ],
   "execution_count": 16
  },
  {
   "metadata": {
    "ExecuteTime": {
     "end_time": "2024-04-24T22:57:50.295398Z",
     "start_time": "2024-04-24T22:57:47.464409Z"
    }
   },
   "cell_type": "code",
   "source": "index = fetchData.select_area(merge_data)",
   "id": "931d1be0aa1e828b",
   "outputs": [
    {
     "name": "stdout",
     "output_type": "stream",
     "text": [
      "San Diego-Carlsbad has been selected\n"
     ]
    }
   ],
   "execution_count": 17
  },
  {
   "metadata": {},
   "cell_type": "markdown",
   "source": "### Loading State data for the selected metro area",
   "id": "70e4da7687fd8472"
  },
  {
   "metadata": {
    "ExecuteTime": {
     "end_time": "2024-04-24T23:58:20.143038Z",
     "start_time": "2024-04-24T23:58:20.136617Z"
    }
   },
   "cell_type": "code",
   "source": [
    "state_code = merge_data['area_state'].iloc[int(index)].split('-')[0]\n",
    "state_code"
   ],
   "id": "b97c3735824b492f",
   "outputs": [
    {
     "data": {
      "text/plain": [
       "'CA'"
      ]
     },
     "execution_count": 25,
     "metadata": {},
     "output_type": "execute_result"
    }
   ],
   "execution_count": 25
  },
  {
   "metadata": {
    "ExecuteTime": {
     "end_time": "2024-04-24T23:58:56.974731Z",
     "start_time": "2024-04-24T23:58:23.757958Z"
    }
   },
   "cell_type": "code",
   "source": [
    "state_data = fetchData.fetch_state_fmr_data(api_config=API_file, start_year=analysis_start_year, end_year=analysis_end_year, state_code=state_code)\n",
    "state_data.head()"
   ],
   "id": "27477061c5ad31ea",
   "outputs": [
    {
     "data": {
      "text/plain": [
       "               code  Efficiency  One-Bedroom  Two-Bedroom  Three-Bedroom  \\\n",
       "0  METRO12540M12540       623.0        650.0        844.0         1222.0   \n",
       "1  METRO17020M17020       656.0        729.0        923.0         1344.0   \n",
       "2  METRO20940M20940       522.0        626.0        822.0         1123.0   \n",
       "3  METRO23420M23420       670.0        709.0        887.0         1258.0   \n",
       "4  METRO25260M25260       619.0        623.0        803.0         1133.0   \n",
       "\n",
       "   Four-Bedroom       year  \n",
       "0        1470.0 2017-10-01  \n",
       "1        1614.0 2017-10-01  \n",
       "2        1434.0 2017-10-01  \n",
       "3        1470.0 2017-10-01  \n",
       "4        1296.0 2017-10-01  "
      ],
      "text/html": [
       "<div>\n",
       "<style scoped>\n",
       "    .dataframe tbody tr th:only-of-type {\n",
       "        vertical-align: middle;\n",
       "    }\n",
       "\n",
       "    .dataframe tbody tr th {\n",
       "        vertical-align: top;\n",
       "    }\n",
       "\n",
       "    .dataframe thead th {\n",
       "        text-align: right;\n",
       "    }\n",
       "</style>\n",
       "<table border=\"1\" class=\"dataframe\">\n",
       "  <thead>\n",
       "    <tr style=\"text-align: right;\">\n",
       "      <th></th>\n",
       "      <th>code</th>\n",
       "      <th>Efficiency</th>\n",
       "      <th>One-Bedroom</th>\n",
       "      <th>Two-Bedroom</th>\n",
       "      <th>Three-Bedroom</th>\n",
       "      <th>Four-Bedroom</th>\n",
       "      <th>year</th>\n",
       "    </tr>\n",
       "  </thead>\n",
       "  <tbody>\n",
       "    <tr>\n",
       "      <th>0</th>\n",
       "      <td>METRO12540M12540</td>\n",
       "      <td>623.0</td>\n",
       "      <td>650.0</td>\n",
       "      <td>844.0</td>\n",
       "      <td>1222.0</td>\n",
       "      <td>1470.0</td>\n",
       "      <td>2017-10-01</td>\n",
       "    </tr>\n",
       "    <tr>\n",
       "      <th>1</th>\n",
       "      <td>METRO17020M17020</td>\n",
       "      <td>656.0</td>\n",
       "      <td>729.0</td>\n",
       "      <td>923.0</td>\n",
       "      <td>1344.0</td>\n",
       "      <td>1614.0</td>\n",
       "      <td>2017-10-01</td>\n",
       "    </tr>\n",
       "    <tr>\n",
       "      <th>2</th>\n",
       "      <td>METRO20940M20940</td>\n",
       "      <td>522.0</td>\n",
       "      <td>626.0</td>\n",
       "      <td>822.0</td>\n",
       "      <td>1123.0</td>\n",
       "      <td>1434.0</td>\n",
       "      <td>2017-10-01</td>\n",
       "    </tr>\n",
       "    <tr>\n",
       "      <th>3</th>\n",
       "      <td>METRO23420M23420</td>\n",
       "      <td>670.0</td>\n",
       "      <td>709.0</td>\n",
       "      <td>887.0</td>\n",
       "      <td>1258.0</td>\n",
       "      <td>1470.0</td>\n",
       "      <td>2017-10-01</td>\n",
       "    </tr>\n",
       "    <tr>\n",
       "      <th>4</th>\n",
       "      <td>METRO25260M25260</td>\n",
       "      <td>619.0</td>\n",
       "      <td>623.0</td>\n",
       "      <td>803.0</td>\n",
       "      <td>1133.0</td>\n",
       "      <td>1296.0</td>\n",
       "      <td>2017-10-01</td>\n",
       "    </tr>\n",
       "  </tbody>\n",
       "</table>\n",
       "</div>"
      ]
     },
     "execution_count": 26,
     "metadata": {},
     "output_type": "execute_result"
    }
   ],
   "execution_count": 26
  },
  {
   "metadata": {},
   "cell_type": "markdown",
   "source": "### Loading CPI data for the selected metro area",
   "id": "7ce7b0b2caae5549"
  },
  {
   "metadata": {
    "ExecuteTime": {
     "end_time": "2024-04-24T22:58:23.810677Z",
     "start_time": "2024-04-24T22:58:23.803693Z"
    }
   },
   "cell_type": "code",
   "source": [
    "cpi_id = merge_data['area_code'].iloc[int(index)]\n",
    "cpi_id"
   ],
   "id": "bfe00c099915262a",
   "outputs": [
    {
     "data": {
      "text/plain": [
       "'CUURS49ESA0'"
      ]
     },
     "execution_count": 19,
     "metadata": {},
     "output_type": "execute_result"
    }
   ],
   "execution_count": 19
  },
  {
   "metadata": {
    "ExecuteTime": {
     "end_time": "2024-04-24T22:58:35.857505Z",
     "start_time": "2024-04-24T22:58:34.753335Z"
    }
   },
   "cell_type": "code",
   "source": [
    "cpi_data = fetchData.fetch_metro_cpi_bls(api_config=API_file, area_code=cpi_id, start_year=analysis_start_year, end_year=analysis_end_year)\n",
    "cpi_data.head()"
   ],
   "id": "78d0d19ca2b0c9b0",
   "outputs": [
    {
     "data": {
      "text/plain": [
       "Month          01          03          05          07          09          11\n",
       "year                                                                         \n",
       "2017         <NA>        <NA>        <NA>        <NA>        <NA>  285.960999\n",
       "2018   288.330994  290.809998  289.243011  295.184998  295.882996  293.858002\n",
       "2019   295.760986  297.226013  300.303009  299.333008   301.03299  301.519989\n",
       "2020   302.563995  302.588989  301.316986  305.610992  304.442993  306.334015\n",
       "2021   307.687988  315.035004  317.140991  323.906006     324.138  326.421997"
      ],
      "text/html": [
       "<div>\n",
       "<style scoped>\n",
       "    .dataframe tbody tr th:only-of-type {\n",
       "        vertical-align: middle;\n",
       "    }\n",
       "\n",
       "    .dataframe tbody tr th {\n",
       "        vertical-align: top;\n",
       "    }\n",
       "\n",
       "    .dataframe thead th {\n",
       "        text-align: right;\n",
       "    }\n",
       "</style>\n",
       "<table border=\"1\" class=\"dataframe\">\n",
       "  <thead>\n",
       "    <tr style=\"text-align: right;\">\n",
       "      <th>Month</th>\n",
       "      <th>01</th>\n",
       "      <th>03</th>\n",
       "      <th>05</th>\n",
       "      <th>07</th>\n",
       "      <th>09</th>\n",
       "      <th>11</th>\n",
       "    </tr>\n",
       "    <tr>\n",
       "      <th>year</th>\n",
       "      <th></th>\n",
       "      <th></th>\n",
       "      <th></th>\n",
       "      <th></th>\n",
       "      <th></th>\n",
       "      <th></th>\n",
       "    </tr>\n",
       "  </thead>\n",
       "  <tbody>\n",
       "    <tr>\n",
       "      <th>2017</th>\n",
       "      <td>&lt;NA&gt;</td>\n",
       "      <td>&lt;NA&gt;</td>\n",
       "      <td>&lt;NA&gt;</td>\n",
       "      <td>&lt;NA&gt;</td>\n",
       "      <td>&lt;NA&gt;</td>\n",
       "      <td>285.960999</td>\n",
       "    </tr>\n",
       "    <tr>\n",
       "      <th>2018</th>\n",
       "      <td>288.330994</td>\n",
       "      <td>290.809998</td>\n",
       "      <td>289.243011</td>\n",
       "      <td>295.184998</td>\n",
       "      <td>295.882996</td>\n",
       "      <td>293.858002</td>\n",
       "    </tr>\n",
       "    <tr>\n",
       "      <th>2019</th>\n",
       "      <td>295.760986</td>\n",
       "      <td>297.226013</td>\n",
       "      <td>300.303009</td>\n",
       "      <td>299.333008</td>\n",
       "      <td>301.03299</td>\n",
       "      <td>301.519989</td>\n",
       "    </tr>\n",
       "    <tr>\n",
       "      <th>2020</th>\n",
       "      <td>302.563995</td>\n",
       "      <td>302.588989</td>\n",
       "      <td>301.316986</td>\n",
       "      <td>305.610992</td>\n",
       "      <td>304.442993</td>\n",
       "      <td>306.334015</td>\n",
       "    </tr>\n",
       "    <tr>\n",
       "      <th>2021</th>\n",
       "      <td>307.687988</td>\n",
       "      <td>315.035004</td>\n",
       "      <td>317.140991</td>\n",
       "      <td>323.906006</td>\n",
       "      <td>324.138</td>\n",
       "      <td>326.421997</td>\n",
       "    </tr>\n",
       "  </tbody>\n",
       "</table>\n",
       "</div>"
      ]
     },
     "execution_count": 21,
     "metadata": {},
     "output_type": "execute_result"
    }
   ],
   "execution_count": 21
  },
  {
   "metadata": {},
   "cell_type": "markdown",
   "source": "### Loading FMR data for the selected metro area",
   "id": "b20dcce54e4439d6"
  },
  {
   "metadata": {
    "ExecuteTime": {
     "end_time": "2024-04-24T23:59:32.310169Z",
     "start_time": "2024-04-24T23:59:32.303900Z"
    }
   },
   "cell_type": "code",
   "source": [
    "cbsa_code = merge_data['cbsa_code'].iloc[int(index)]\n",
    "cbsa_code"
   ],
   "id": "8f542fdc89747959",
   "outputs": [
    {
     "data": {
      "text/plain": [
       "'METRO41740M41740'"
      ]
     },
     "execution_count": 28,
     "metadata": {},
     "output_type": "execute_result"
    }
   ],
   "execution_count": 28
  },
  {
   "metadata": {},
   "cell_type": "code",
   "source": [
    "# cbsa_data = fetchData.fetch_metro_fmr_data(api_config=API_file, start_year=analysis_start_year, end_year=analysis_end_year, metro_code=cbsa_code)\n",
    "# cbsa_data.head()"
   ],
   "id": "d5c422e61f873def",
   "outputs": [],
   "execution_count": null
  },
  {
   "metadata": {
    "ExecuteTime": {
     "end_time": "2024-04-25T00:04:21.185253Z",
     "start_time": "2024-04-25T00:04:21.178642Z"
    }
   },
   "cell_type": "code",
   "source": "cbsa_data = state_data[state_data['code'] == cbsa_code].reset_index(drop=True)",
   "id": "4c23d584351d0346",
   "outputs": [],
   "execution_count": 31
  },
  {
   "metadata": {
    "ExecuteTime": {
     "end_time": "2024-04-25T00:04:26.032242Z",
     "start_time": "2024-04-25T00:04:26.022516Z"
    }
   },
   "cell_type": "code",
   "source": "cbsa_data",
   "id": "f8c1615a04b1b1fe",
   "outputs": [
    {
     "data": {
      "text/plain": [
       "               code  Efficiency  One-Bedroom  Two-Bedroom  Three-Bedroom  \\\n",
       "0  METRO41740M41740      1212.0       1342.0       1741.0         2507.0   \n",
       "1  METRO41740M41740      1257.0       1400.0       1816.0         2612.0   \n",
       "2  METRO41740M41740      1333.0       1490.0       1938.0         2776.0   \n",
       "3  METRO41740M41740      1404.0       1566.0       2037.0         2894.0   \n",
       "4  METRO41740M41740      1478.0       1642.0       2124.0         2987.0   \n",
       "5  METRO41740M41740      1573.0       1739.0       2232.0         3099.0   \n",
       "6  METRO41740M41740      1714.0       1885.0       2399.0         3279.0   \n",
       "7  METRO41740M41740      2062.0       2248.0       2833.0         3819.0   \n",
       "\n",
       "   Four-Bedroom       year  \n",
       "0        3068.0 2017-10-01  \n",
       "1        3198.0 2018-10-01  \n",
       "2        3404.0 2019-10-01  \n",
       "3        3576.0 2020-10-01  \n",
       "4        3677.0 2021-10-01  \n",
       "5        3795.0 2022-10-01  \n",
       "6        3988.0 2023-10-01  \n",
       "7        4638.0 2024-10-01  "
      ],
      "text/html": [
       "<div>\n",
       "<style scoped>\n",
       "    .dataframe tbody tr th:only-of-type {\n",
       "        vertical-align: middle;\n",
       "    }\n",
       "\n",
       "    .dataframe tbody tr th {\n",
       "        vertical-align: top;\n",
       "    }\n",
       "\n",
       "    .dataframe thead th {\n",
       "        text-align: right;\n",
       "    }\n",
       "</style>\n",
       "<table border=\"1\" class=\"dataframe\">\n",
       "  <thead>\n",
       "    <tr style=\"text-align: right;\">\n",
       "      <th></th>\n",
       "      <th>code</th>\n",
       "      <th>Efficiency</th>\n",
       "      <th>One-Bedroom</th>\n",
       "      <th>Two-Bedroom</th>\n",
       "      <th>Three-Bedroom</th>\n",
       "      <th>Four-Bedroom</th>\n",
       "      <th>year</th>\n",
       "    </tr>\n",
       "  </thead>\n",
       "  <tbody>\n",
       "    <tr>\n",
       "      <th>0</th>\n",
       "      <td>METRO41740M41740</td>\n",
       "      <td>1212.0</td>\n",
       "      <td>1342.0</td>\n",
       "      <td>1741.0</td>\n",
       "      <td>2507.0</td>\n",
       "      <td>3068.0</td>\n",
       "      <td>2017-10-01</td>\n",
       "    </tr>\n",
       "    <tr>\n",
       "      <th>1</th>\n",
       "      <td>METRO41740M41740</td>\n",
       "      <td>1257.0</td>\n",
       "      <td>1400.0</td>\n",
       "      <td>1816.0</td>\n",
       "      <td>2612.0</td>\n",
       "      <td>3198.0</td>\n",
       "      <td>2018-10-01</td>\n",
       "    </tr>\n",
       "    <tr>\n",
       "      <th>2</th>\n",
       "      <td>METRO41740M41740</td>\n",
       "      <td>1333.0</td>\n",
       "      <td>1490.0</td>\n",
       "      <td>1938.0</td>\n",
       "      <td>2776.0</td>\n",
       "      <td>3404.0</td>\n",
       "      <td>2019-10-01</td>\n",
       "    </tr>\n",
       "    <tr>\n",
       "      <th>3</th>\n",
       "      <td>METRO41740M41740</td>\n",
       "      <td>1404.0</td>\n",
       "      <td>1566.0</td>\n",
       "      <td>2037.0</td>\n",
       "      <td>2894.0</td>\n",
       "      <td>3576.0</td>\n",
       "      <td>2020-10-01</td>\n",
       "    </tr>\n",
       "    <tr>\n",
       "      <th>4</th>\n",
       "      <td>METRO41740M41740</td>\n",
       "      <td>1478.0</td>\n",
       "      <td>1642.0</td>\n",
       "      <td>2124.0</td>\n",
       "      <td>2987.0</td>\n",
       "      <td>3677.0</td>\n",
       "      <td>2021-10-01</td>\n",
       "    </tr>\n",
       "    <tr>\n",
       "      <th>5</th>\n",
       "      <td>METRO41740M41740</td>\n",
       "      <td>1573.0</td>\n",
       "      <td>1739.0</td>\n",
       "      <td>2232.0</td>\n",
       "      <td>3099.0</td>\n",
       "      <td>3795.0</td>\n",
       "      <td>2022-10-01</td>\n",
       "    </tr>\n",
       "    <tr>\n",
       "      <th>6</th>\n",
       "      <td>METRO41740M41740</td>\n",
       "      <td>1714.0</td>\n",
       "      <td>1885.0</td>\n",
       "      <td>2399.0</td>\n",
       "      <td>3279.0</td>\n",
       "      <td>3988.0</td>\n",
       "      <td>2023-10-01</td>\n",
       "    </tr>\n",
       "    <tr>\n",
       "      <th>7</th>\n",
       "      <td>METRO41740M41740</td>\n",
       "      <td>2062.0</td>\n",
       "      <td>2248.0</td>\n",
       "      <td>2833.0</td>\n",
       "      <td>3819.0</td>\n",
       "      <td>4638.0</td>\n",
       "      <td>2024-10-01</td>\n",
       "    </tr>\n",
       "  </tbody>\n",
       "</table>\n",
       "</div>"
      ]
     },
     "execution_count": 32,
     "metadata": {},
     "output_type": "execute_result"
    }
   ],
   "execution_count": 32
  },
  {
   "metadata": {},
   "cell_type": "markdown",
   "source": "## ",
   "id": "22e9a7002652645d"
  },
  {
   "metadata": {},
   "cell_type": "markdown",
   "source": "## Identifying Lag in CPI and FMR",
   "id": "3c6948010abc34c6"
  },
  {
   "metadata": {
    "ExecuteTime": {
     "end_time": "2024-04-25T02:54:27.643628Z",
     "start_time": "2024-04-25T02:54:27.612021Z"
    }
   },
   "cell_type": "code",
   "source": [
    "years = cpi_data.index\n",
    "def date_parser(x: str, yr: str):\n",
    "    x = yr+' '+x\n",
    "    return datetime.strptime(x, '%Y %m')\n",
    "years = cpi_data.index\n",
    "for year in range(len(years)):\n",
    "    y = pd.DataFrame(cpi_data.loc[years[year]])\n",
    "    y.reset_index(inplace=True)\n",
    "    y['Date'] = y['Month'].apply(lambda x: date_parser(x, years[year]))\n",
    "    y = y.drop(columns=['Month']).set_index('Date').rename(columns={years[year]: 'CPI'})\n",
    "    if year ==0:\n",
    "        cpi_data_t = y.copy()\n",
    "    else:\n",
    "        cpi_data_t = pd.concat([cpi_data_t, y], axis=0)\n",
    "cpi_data_t"
   ],
   "id": "4a03ea8786ccbe7e",
   "outputs": [
    {
     "data": {
      "text/plain": [
       "                   CPI\n",
       "Date                  \n",
       "2017-01-01        <NA>\n",
       "2017-03-01        <NA>\n",
       "2017-05-01        <NA>\n",
       "2017-07-01        <NA>\n",
       "2017-09-01        <NA>\n",
       "2017-11-01  285.960999\n",
       "2018-01-01  288.330994\n",
       "2018-03-01  290.809998\n",
       "2018-05-01  289.243011\n",
       "2018-07-01  295.184998\n",
       "2018-09-01  295.882996\n",
       "2018-11-01  293.858002\n",
       "2019-01-01  295.760986\n",
       "2019-03-01  297.226013\n",
       "2019-05-01  300.303009\n",
       "2019-07-01  299.333008\n",
       "2019-09-01   301.03299\n",
       "2019-11-01  301.519989\n",
       "2020-01-01  302.563995\n",
       "2020-03-01  302.588989\n",
       "2020-05-01  301.316986\n",
       "2020-07-01  305.610992\n",
       "2020-09-01  304.442993\n",
       "2020-11-01  306.334015\n",
       "2021-01-01  307.687988\n",
       "2021-03-01  315.035004\n",
       "2021-05-01  317.140991\n",
       "2021-07-01  323.906006\n",
       "2021-09-01     324.138\n",
       "2021-11-01  326.421997\n",
       "2022-01-01   332.98999\n",
       "2022-03-01   339.85199\n",
       "2022-05-01  343.502014\n",
       "2022-07-01  347.462006\n",
       "2022-09-01  350.721008\n",
       "2022-11-01  348.144989\n",
       "2023-01-01  354.453003\n",
       "2023-03-01  358.026001\n",
       "2023-05-01  361.338989\n",
       "2023-07-01  362.411987\n",
       "2023-09-01  367.184998\n",
       "2023-11-01  366.342987"
      ],
      "text/html": [
       "<div>\n",
       "<style scoped>\n",
       "    .dataframe tbody tr th:only-of-type {\n",
       "        vertical-align: middle;\n",
       "    }\n",
       "\n",
       "    .dataframe tbody tr th {\n",
       "        vertical-align: top;\n",
       "    }\n",
       "\n",
       "    .dataframe thead th {\n",
       "        text-align: right;\n",
       "    }\n",
       "</style>\n",
       "<table border=\"1\" class=\"dataframe\">\n",
       "  <thead>\n",
       "    <tr style=\"text-align: right;\">\n",
       "      <th></th>\n",
       "      <th>CPI</th>\n",
       "    </tr>\n",
       "    <tr>\n",
       "      <th>Date</th>\n",
       "      <th></th>\n",
       "    </tr>\n",
       "  </thead>\n",
       "  <tbody>\n",
       "    <tr>\n",
       "      <th>2017-01-01</th>\n",
       "      <td>&lt;NA&gt;</td>\n",
       "    </tr>\n",
       "    <tr>\n",
       "      <th>2017-03-01</th>\n",
       "      <td>&lt;NA&gt;</td>\n",
       "    </tr>\n",
       "    <tr>\n",
       "      <th>2017-05-01</th>\n",
       "      <td>&lt;NA&gt;</td>\n",
       "    </tr>\n",
       "    <tr>\n",
       "      <th>2017-07-01</th>\n",
       "      <td>&lt;NA&gt;</td>\n",
       "    </tr>\n",
       "    <tr>\n",
       "      <th>2017-09-01</th>\n",
       "      <td>&lt;NA&gt;</td>\n",
       "    </tr>\n",
       "    <tr>\n",
       "      <th>2017-11-01</th>\n",
       "      <td>285.960999</td>\n",
       "    </tr>\n",
       "    <tr>\n",
       "      <th>2018-01-01</th>\n",
       "      <td>288.330994</td>\n",
       "    </tr>\n",
       "    <tr>\n",
       "      <th>2018-03-01</th>\n",
       "      <td>290.809998</td>\n",
       "    </tr>\n",
       "    <tr>\n",
       "      <th>2018-05-01</th>\n",
       "      <td>289.243011</td>\n",
       "    </tr>\n",
       "    <tr>\n",
       "      <th>2018-07-01</th>\n",
       "      <td>295.184998</td>\n",
       "    </tr>\n",
       "    <tr>\n",
       "      <th>2018-09-01</th>\n",
       "      <td>295.882996</td>\n",
       "    </tr>\n",
       "    <tr>\n",
       "      <th>2018-11-01</th>\n",
       "      <td>293.858002</td>\n",
       "    </tr>\n",
       "    <tr>\n",
       "      <th>2019-01-01</th>\n",
       "      <td>295.760986</td>\n",
       "    </tr>\n",
       "    <tr>\n",
       "      <th>2019-03-01</th>\n",
       "      <td>297.226013</td>\n",
       "    </tr>\n",
       "    <tr>\n",
       "      <th>2019-05-01</th>\n",
       "      <td>300.303009</td>\n",
       "    </tr>\n",
       "    <tr>\n",
       "      <th>2019-07-01</th>\n",
       "      <td>299.333008</td>\n",
       "    </tr>\n",
       "    <tr>\n",
       "      <th>2019-09-01</th>\n",
       "      <td>301.03299</td>\n",
       "    </tr>\n",
       "    <tr>\n",
       "      <th>2019-11-01</th>\n",
       "      <td>301.519989</td>\n",
       "    </tr>\n",
       "    <tr>\n",
       "      <th>2020-01-01</th>\n",
       "      <td>302.563995</td>\n",
       "    </tr>\n",
       "    <tr>\n",
       "      <th>2020-03-01</th>\n",
       "      <td>302.588989</td>\n",
       "    </tr>\n",
       "    <tr>\n",
       "      <th>2020-05-01</th>\n",
       "      <td>301.316986</td>\n",
       "    </tr>\n",
       "    <tr>\n",
       "      <th>2020-07-01</th>\n",
       "      <td>305.610992</td>\n",
       "    </tr>\n",
       "    <tr>\n",
       "      <th>2020-09-01</th>\n",
       "      <td>304.442993</td>\n",
       "    </tr>\n",
       "    <tr>\n",
       "      <th>2020-11-01</th>\n",
       "      <td>306.334015</td>\n",
       "    </tr>\n",
       "    <tr>\n",
       "      <th>2021-01-01</th>\n",
       "      <td>307.687988</td>\n",
       "    </tr>\n",
       "    <tr>\n",
       "      <th>2021-03-01</th>\n",
       "      <td>315.035004</td>\n",
       "    </tr>\n",
       "    <tr>\n",
       "      <th>2021-05-01</th>\n",
       "      <td>317.140991</td>\n",
       "    </tr>\n",
       "    <tr>\n",
       "      <th>2021-07-01</th>\n",
       "      <td>323.906006</td>\n",
       "    </tr>\n",
       "    <tr>\n",
       "      <th>2021-09-01</th>\n",
       "      <td>324.138</td>\n",
       "    </tr>\n",
       "    <tr>\n",
       "      <th>2021-11-01</th>\n",
       "      <td>326.421997</td>\n",
       "    </tr>\n",
       "    <tr>\n",
       "      <th>2022-01-01</th>\n",
       "      <td>332.98999</td>\n",
       "    </tr>\n",
       "    <tr>\n",
       "      <th>2022-03-01</th>\n",
       "      <td>339.85199</td>\n",
       "    </tr>\n",
       "    <tr>\n",
       "      <th>2022-05-01</th>\n",
       "      <td>343.502014</td>\n",
       "    </tr>\n",
       "    <tr>\n",
       "      <th>2022-07-01</th>\n",
       "      <td>347.462006</td>\n",
       "    </tr>\n",
       "    <tr>\n",
       "      <th>2022-09-01</th>\n",
       "      <td>350.721008</td>\n",
       "    </tr>\n",
       "    <tr>\n",
       "      <th>2022-11-01</th>\n",
       "      <td>348.144989</td>\n",
       "    </tr>\n",
       "    <tr>\n",
       "      <th>2023-01-01</th>\n",
       "      <td>354.453003</td>\n",
       "    </tr>\n",
       "    <tr>\n",
       "      <th>2023-03-01</th>\n",
       "      <td>358.026001</td>\n",
       "    </tr>\n",
       "    <tr>\n",
       "      <th>2023-05-01</th>\n",
       "      <td>361.338989</td>\n",
       "    </tr>\n",
       "    <tr>\n",
       "      <th>2023-07-01</th>\n",
       "      <td>362.411987</td>\n",
       "    </tr>\n",
       "    <tr>\n",
       "      <th>2023-09-01</th>\n",
       "      <td>367.184998</td>\n",
       "    </tr>\n",
       "    <tr>\n",
       "      <th>2023-11-01</th>\n",
       "      <td>366.342987</td>\n",
       "    </tr>\n",
       "  </tbody>\n",
       "</table>\n",
       "</div>"
      ]
     },
     "execution_count": 39,
     "metadata": {},
     "output_type": "execute_result"
    }
   ],
   "execution_count": 39
  },
  {
   "metadata": {
    "ExecuteTime": {
     "end_time": "2024-04-25T03:17:22.382079Z",
     "start_time": "2024-04-25T03:17:22.374966Z"
    }
   },
   "cell_type": "code",
   "source": [
    "fmr_implementation_period = pd.date_range(\"2017-10-01\", periods=8, freq=\"YS-OCT\")\n",
    "fmr_implementation_period"
   ],
   "id": "cd2cb3bf3d4df78e",
   "outputs": [
    {
     "data": {
      "text/plain": [
       "DatetimeIndex(['2017-10-01', '2018-10-01', '2019-10-01', '2020-10-01',\n",
       "               '2021-10-01', '2022-10-01', '2023-10-01', '2024-10-01'],\n",
       "              dtype='datetime64[ns]', freq='YS-OCT')"
      ]
     },
     "execution_count": 50,
     "metadata": {},
     "output_type": "execute_result"
    }
   ],
   "execution_count": 50
  },
  {
   "metadata": {
    "ExecuteTime": {
     "end_time": "2024-04-25T03:22:53.363154Z",
     "start_time": "2024-04-25T03:22:53.354793Z"
    }
   },
   "cell_type": "code",
   "source": "cpi_data_smooth = cpi_data_t.groupby(pd.Grouper(freq='YS-OCT')).mean()",
   "id": "644bcaf0a1d28dd7",
   "outputs": [],
   "execution_count": 53
  },
  {
   "metadata": {
    "ExecuteTime": {
     "end_time": "2024-04-25T03:58:39.957812Z",
     "start_time": "2024-04-25T03:58:39.949106Z"
    }
   },
   "cell_type": "code",
   "source": [
    "combined = pd.merge(cbsa_data.set_index('year'), cpi_data_smooth, how='inner' ,left_index=True, right_index=True)\n",
    "combined.drop(columns=['code'], inplace=True)\n",
    "all_cols = combined.columns"
   ],
   "id": "1db2a01f3962f1b",
   "outputs": [],
   "execution_count": 81
  },
  {
   "metadata": {
    "ExecuteTime": {
     "end_time": "2024-04-25T03:58:40.568877Z",
     "start_time": "2024-04-25T03:58:40.555477Z"
    }
   },
   "cell_type": "code",
   "source": [
    "combined_normalized = (combined-combined.mean()) / combined.std()\n",
    "combined_normalized"
   ],
   "id": "21806ee314d74e41",
   "outputs": [
    {
     "data": {
      "text/plain": [
       "            Efficiency  One-Bedroom  Two-Bedroom  Three-Bedroom  Four-Bedroom  \\\n",
       "2017-10-01    -1.19146    -1.247352    -1.293424      -1.373338      -1.40925   \n",
       "2018-10-01   -0.939066    -0.944103    -0.970068      -0.985851     -1.012217   \n",
       "2019-10-01   -0.512801    -0.473545    -0.444076      -0.380633     -0.383072   \n",
       "2020-10-01   -0.114579    -0.076185    -0.017246       0.054828      0.142234   \n",
       "2021-10-01    0.300469     0.321175     0.357847       0.398031      0.450699   \n",
       "2022-10-01    0.833301     0.828331      0.82348        0.81135      0.811083   \n",
       "2023-10-01    1.624135     1.591681     1.543486       1.475613      1.400525   \n",
       "\n",
       "                 CPI  \n",
       "2017-10-01 -1.111722  \n",
       "2018-10-01 -0.880651  \n",
       "2019-10-01 -0.713088  \n",
       "2020-10-01 -0.294877  \n",
       "2021-10-01  0.510321  \n",
       "2022-10-01  1.117407  \n",
       "2023-10-01  1.372609  "
      ],
      "text/html": [
       "<div>\n",
       "<style scoped>\n",
       "    .dataframe tbody tr th:only-of-type {\n",
       "        vertical-align: middle;\n",
       "    }\n",
       "\n",
       "    .dataframe tbody tr th {\n",
       "        vertical-align: top;\n",
       "    }\n",
       "\n",
       "    .dataframe thead th {\n",
       "        text-align: right;\n",
       "    }\n",
       "</style>\n",
       "<table border=\"1\" class=\"dataframe\">\n",
       "  <thead>\n",
       "    <tr style=\"text-align: right;\">\n",
       "      <th></th>\n",
       "      <th>Efficiency</th>\n",
       "      <th>One-Bedroom</th>\n",
       "      <th>Two-Bedroom</th>\n",
       "      <th>Three-Bedroom</th>\n",
       "      <th>Four-Bedroom</th>\n",
       "      <th>CPI</th>\n",
       "    </tr>\n",
       "  </thead>\n",
       "  <tbody>\n",
       "    <tr>\n",
       "      <th>2017-10-01</th>\n",
       "      <td>-1.19146</td>\n",
       "      <td>-1.247352</td>\n",
       "      <td>-1.293424</td>\n",
       "      <td>-1.373338</td>\n",
       "      <td>-1.40925</td>\n",
       "      <td>-1.111722</td>\n",
       "    </tr>\n",
       "    <tr>\n",
       "      <th>2018-10-01</th>\n",
       "      <td>-0.939066</td>\n",
       "      <td>-0.944103</td>\n",
       "      <td>-0.970068</td>\n",
       "      <td>-0.985851</td>\n",
       "      <td>-1.012217</td>\n",
       "      <td>-0.880651</td>\n",
       "    </tr>\n",
       "    <tr>\n",
       "      <th>2019-10-01</th>\n",
       "      <td>-0.512801</td>\n",
       "      <td>-0.473545</td>\n",
       "      <td>-0.444076</td>\n",
       "      <td>-0.380633</td>\n",
       "      <td>-0.383072</td>\n",
       "      <td>-0.713088</td>\n",
       "    </tr>\n",
       "    <tr>\n",
       "      <th>2020-10-01</th>\n",
       "      <td>-0.114579</td>\n",
       "      <td>-0.076185</td>\n",
       "      <td>-0.017246</td>\n",
       "      <td>0.054828</td>\n",
       "      <td>0.142234</td>\n",
       "      <td>-0.294877</td>\n",
       "    </tr>\n",
       "    <tr>\n",
       "      <th>2021-10-01</th>\n",
       "      <td>0.300469</td>\n",
       "      <td>0.321175</td>\n",
       "      <td>0.357847</td>\n",
       "      <td>0.398031</td>\n",
       "      <td>0.450699</td>\n",
       "      <td>0.510321</td>\n",
       "    </tr>\n",
       "    <tr>\n",
       "      <th>2022-10-01</th>\n",
       "      <td>0.833301</td>\n",
       "      <td>0.828331</td>\n",
       "      <td>0.82348</td>\n",
       "      <td>0.81135</td>\n",
       "      <td>0.811083</td>\n",
       "      <td>1.117407</td>\n",
       "    </tr>\n",
       "    <tr>\n",
       "      <th>2023-10-01</th>\n",
       "      <td>1.624135</td>\n",
       "      <td>1.591681</td>\n",
       "      <td>1.543486</td>\n",
       "      <td>1.475613</td>\n",
       "      <td>1.400525</td>\n",
       "      <td>1.372609</td>\n",
       "    </tr>\n",
       "  </tbody>\n",
       "</table>\n",
       "</div>"
      ]
     },
     "execution_count": 82,
     "metadata": {},
     "output_type": "execute_result"
    }
   ],
   "execution_count": 82
  },
  {
   "metadata": {
    "ExecuteTime": {
     "end_time": "2024-04-25T03:58:42.332484Z",
     "start_time": "2024-04-25T03:58:42.106315Z"
    }
   },
   "cell_type": "code",
   "source": "combined_normalized.plot(kind='line', figsize=(10, 6))",
   "id": "7755acf0b960a15f",
   "outputs": [
    {
     "data": {
      "text/plain": [
       "<Axes: >"
      ]
     },
     "execution_count": 83,
     "metadata": {},
     "output_type": "execute_result"
    },
    {
     "data": {
      "text/plain": [
       "<Figure size 1000x600 with 1 Axes>"
      ],
      "image/png": "[encoded data removed]"
     },
     "metadata": {},
     "output_type": "display_data"
    }
   ],
   "execution_count": 83
  },
  {
   "metadata": {
    "ExecuteTime": {
     "end_time": "2024-04-25T04:10:42.622845Z",
     "start_time": "2024-04-25T04:10:42.464570Z"
    }
   },
   "cell_type": "code",
   "source": [
    "combined_1_yr_shift = combined.copy()\n",
    "combined_1_yr_shift['CPI'] = combined_1_yr_shift['CPI'].shift(-2)\n",
    "combined_1_yr_shift['mean_rent'] = combined_1_yr_shift[['Efficiency', 'One-Bedroom', 'Two-Bedroom', 'Three-Bedroom', 'Four-Bedroom']].mean(axis=1)\n",
    "combined_1_yr_shift = (combined_1_yr_shift - combined_1_yr_shift.mean())/combined_1_yr_shift.std()\n",
    "combined_1_yr_shift[['mean_rent','CPI']].plot(kind='line', figsize=(10, 6))"
   ],
   "id": "310418d0595a3e33",
   "outputs": [
    {
     "data": {
      "text/plain": [
       "<Axes: >"
      ]
     },
     "execution_count": 95,
     "metadata": {},
     "output_type": "execute_result"
    },
    {
     "data": {
      "text/plain": [
       "<Figure size 1000x600 with 1 Axes>"
      ],
      "image/png": "[encoded data removed]"
     },
     "metadata": {},
     "output_type": "display_data"
    }
   ],
   "execution_count": 95
  },
  {
   "metadata": {},
   "cell_type": "code",
   "outputs": [],
   "execution_count": null,
   "source": "",
   "id": "54972730645b5d4d"
  }
 ],
 "metadata": {
  "kernelspec": {
   "display_name": "Python 3",
   "language": "python",
   "name": "python3"
  },
  "language_info": {
   "codemirror_mode": {
    "name": "ipython",
    "version": 2
   },
   "file_extension": ".py",
   "mimetype": "text/x-python",
   "name": "python",
   "nbconvert_exporter": "python",
   "pygments_lexer": "ipython2",
   "version": "2.7.6"
  }
 },
 "nbformat": 4,
 "nbformat_minor": 5
}
