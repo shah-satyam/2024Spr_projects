{
 "cells": [
  {
   "metadata": {},
   "cell_type": "markdown",
   "source": "# Identifying the relationship between the Fair Market Rates and Consumer Price Index of a Metro area",
   "id": "4da365e490464135"
  },
  {
   "metadata": {
    "ExecuteTime": {
     "end_time": "2024-04-27T02:13:07.164939Z",
     "start_time": "2024-04-27T02:13:04.443969Z"
    }
   },
   "cell_type": "code",
   "source": [
    "import fetchData\n",
    "import transformData\n",
    "import pandas as pd\n",
    "from datetime import datetime\n",
    "import matplotlib.pyplot as plt\n",
    "from sklearn.preprocessing import MinMaxScaler"
   ],
   "id": "e41409fa3d692363",
   "outputs": [],
   "execution_count": 1
  },
  {
   "metadata": {},
   "cell_type": "markdown",
   "source": "## Data Preparation",
   "id": "ce577b6aa0c32c9d"
  },
  {
   "metadata": {
    "ExecuteTime": {
     "end_time": "2024-04-27T02:14:01.566735Z",
     "start_time": "2024-04-27T02:14:01.561893Z"
    }
   },
   "cell_type": "code",
   "source": [
    "API_file = 'API_Config.ini'\n",
    "BLS_area_codes = 'Data/BLS/cu.area.txt'\n",
    "analysis_start_year = 2014\n",
    "analysis_end_year = 2024\n",
    "FMR_implementation_month = 10"
   ],
   "id": "4b60209edf997316",
   "outputs": [],
   "execution_count": 2
  },
  {
   "metadata": {},
   "cell_type": "markdown",
   "source": "### Loading the list of metro areas whose CPI data is present in the Bureau of Labour Statistics database",
   "id": "73a5961b5bb11732"
  },
  {
   "metadata": {
    "ExecuteTime": {
     "end_time": "2024-04-27T02:14:02.944647Z",
     "start_time": "2024-04-27T02:14:02.887993Z"
    }
   },
   "cell_type": "code",
   "source": [
    "#fetching series id's for every metro area available in the Bureau of Labour Statistic's database\n",
    "series_id = fetchData.get_bls_series_id(metro_code_file=BLS_area_codes)\n",
    "series_id.head()"
   ],
   "id": "57049cac8068fe1",
   "outputs": [
    {
     "data": {
      "text/plain": [
       "     area_code                       area_name   area_state\n",
       "1  CUURS11ASA0         Boston-Cambridge-Newton        MA-NH\n",
       "2  CUURS12ASA0     New York-Newark-Jersey City     NY-NJ-PA\n",
       "3  CUURS12BSA0  Philadelphia-Camden-Wilmington  PA-NJ-DE-MD\n",
       "5  CUURS23ASA0        Chicago-Naperville-Elgin     IL-IN-WI\n",
       "6  CUURS23BSA0         Detroit-Warren-Dearborn           MI"
      ],
      "text/html": [
       "<div>\n",
       "<style scoped>\n",
       "    .dataframe tbody tr th:only-of-type {\n",
       "        vertical-align: middle;\n",
       "    }\n",
       "\n",
       "    .dataframe tbody tr th {\n",
       "        vertical-align: top;\n",
       "    }\n",
       "\n",
       "    .dataframe thead th {\n",
       "        text-align: right;\n",
       "    }\n",
       "</style>\n",
       "<table border=\"1\" class=\"dataframe\">\n",
       "  <thead>\n",
       "    <tr style=\"text-align: right;\">\n",
       "      <th></th>\n",
       "      <th>area_code</th>\n",
       "      <th>area_name</th>\n",
       "      <th>area_state</th>\n",
       "    </tr>\n",
       "  </thead>\n",
       "  <tbody>\n",
       "    <tr>\n",
       "      <th>1</th>\n",
       "      <td>CUURS11ASA0</td>\n",
       "      <td>Boston-Cambridge-Newton</td>\n",
       "      <td>MA-NH</td>\n",
       "    </tr>\n",
       "    <tr>\n",
       "      <th>2</th>\n",
       "      <td>CUURS12ASA0</td>\n",
       "      <td>New York-Newark-Jersey City</td>\n",
       "      <td>NY-NJ-PA</td>\n",
       "    </tr>\n",
       "    <tr>\n",
       "      <th>3</th>\n",
       "      <td>CUURS12BSA0</td>\n",
       "      <td>Philadelphia-Camden-Wilmington</td>\n",
       "      <td>PA-NJ-DE-MD</td>\n",
       "    </tr>\n",
       "    <tr>\n",
       "      <th>5</th>\n",
       "      <td>CUURS23ASA0</td>\n",
       "      <td>Chicago-Naperville-Elgin</td>\n",
       "      <td>IL-IN-WI</td>\n",
       "    </tr>\n",
       "    <tr>\n",
       "      <th>6</th>\n",
       "      <td>CUURS23BSA0</td>\n",
       "      <td>Detroit-Warren-Dearborn</td>\n",
       "      <td>MI</td>\n",
       "    </tr>\n",
       "  </tbody>\n",
       "</table>\n",
       "</div>"
      ]
     },
     "execution_count": 3,
     "metadata": {},
     "output_type": "execute_result"
    }
   ],
   "execution_count": 3
  },
  {
   "metadata": {
    "ExecuteTime": {
     "end_time": "2024-04-27T02:14:03.607156Z",
     "start_time": "2024-04-27T02:14:03.599390Z"
    }
   },
   "cell_type": "code",
   "source": "series_id.isna().sum()",
   "id": "96a0788aeb31cf19",
   "outputs": [
    {
     "data": {
      "text/plain": [
       "area_code     0\n",
       "area_name     0\n",
       "area_state    0\n",
       "dtype: int64"
      ]
     },
     "execution_count": 4,
     "metadata": {},
     "output_type": "execute_result"
    }
   ],
   "execution_count": 4
  },
  {
   "metadata": {},
   "cell_type": "markdown",
   "source": "The dataset has no missing values",
   "id": "d2fff5f1ce71979"
  },
  {
   "metadata": {},
   "cell_type": "markdown",
   "source": "#### Cleaning the CPI Data",
   "id": "dc2a0210269cc4ce"
  },
  {
   "metadata": {
    "ExecuteTime": {
     "end_time": "2024-04-27T02:14:05.220477Z",
     "start_time": "2024-04-27T02:14:05.201932Z"
    }
   },
   "cell_type": "code",
   "source": "series_id['area_state'].unique()",
   "id": "71f3fa896f1b606b",
   "outputs": [
    {
     "data": {
      "text/plain": [
       "<StringArray>\n",
       "[      'MA-NH',    'NY-NJ-PA', 'PA-NJ-DE-MD',    'IL-IN-WI',          'MI',\n",
       "       'MN-WI',       'MO-IL', 'DC-VA-MD-WV',          'FL',          'GA',\n",
       "          'MD',          'TX',          'AZ',          'CO',          'CA',\n",
       "          'WA',      'Hawaii',      'Alaska']\n",
       "Length: 18, dtype: string"
      ]
     },
     "execution_count": 5,
     "metadata": {},
     "output_type": "execute_result"
    }
   ],
   "execution_count": 5
  },
  {
   "metadata": {},
   "cell_type": "markdown",
   "source": "On further inspection, there are some rows for which the state names [Hawaii and Alaska] are not abbreviated. This can later cause an issue while merging this dataset with the HUD dataset.",
   "id": "3983c08b4a2342fd"
  },
  {
   "metadata": {
    "ExecuteTime": {
     "end_time": "2024-04-27T02:14:06.795735Z",
     "start_time": "2024-04-27T02:14:06.788340Z"
    }
   },
   "cell_type": "code",
   "source": [
    "series_id.loc[series_id['area_state'] == 'Hawaii','area_state'] = 'HI'\n",
    "series_id.loc[series_id['area_state'] == 'Alaska','area_state'] = 'AK'\n",
    "series_id['area_state'].unique()"
   ],
   "id": "5b21b9cff2940ba5",
   "outputs": [
    {
     "data": {
      "text/plain": [
       "<StringArray>\n",
       "[      'MA-NH',    'NY-NJ-PA', 'PA-NJ-DE-MD',    'IL-IN-WI',          'MI',\n",
       "       'MN-WI',       'MO-IL', 'DC-VA-MD-WV',          'FL',          'GA',\n",
       "          'MD',          'TX',          'AZ',          'CO',          'CA',\n",
       "          'WA',          'HI',          'AK']\n",
       "Length: 18, dtype: string"
      ]
     },
     "execution_count": 6,
     "metadata": {},
     "output_type": "execute_result"
    }
   ],
   "execution_count": 6
  },
  {
   "metadata": {},
   "cell_type": "markdown",
   "source": "After processing, the dataframe has no missing / incorrect values.",
   "id": "5fd2a1f1da93cbe0"
  },
  {
   "metadata": {},
   "cell_type": "markdown",
   "source": "### Loading the list of metro areas whose FMR data is available in the HUD database",
   "id": "5e167f7700ecf554"
  },
  {
   "metadata": {
    "ExecuteTime": {
     "end_time": "2024-04-27T02:14:10.024723Z",
     "start_time": "2024-04-27T02:14:08.772225Z"
    }
   },
   "cell_type": "code",
   "source": [
    "hud_metro_data = fetchData.get_metro_codes_hud(api_config=API_file)\n",
    "hud_metro_data.head()"
   ],
   "id": "9bc29c64a0b545d5",
   "outputs": [
    {
     "data": {
      "text/plain": [
       "          cbsa_code          area_name area_state\n",
       "0  METRO10180M10180            Abilene         TX\n",
       "1  METRO29180N22001      Acadia Parish         LA\n",
       "2  METRO10380M10380  Aguadilla-Isabela         PR\n",
       "3  METRO10420M10420              Akron         OH\n",
       "4  METRO10500M10500             Albany         GA"
      ],
      "text/html": [
       "<div>\n",
       "<style scoped>\n",
       "    .dataframe tbody tr th:only-of-type {\n",
       "        vertical-align: middle;\n",
       "    }\n",
       "\n",
       "    .dataframe tbody tr th {\n",
       "        vertical-align: top;\n",
       "    }\n",
       "\n",
       "    .dataframe thead th {\n",
       "        text-align: right;\n",
       "    }\n",
       "</style>\n",
       "<table border=\"1\" class=\"dataframe\">\n",
       "  <thead>\n",
       "    <tr style=\"text-align: right;\">\n",
       "      <th></th>\n",
       "      <th>cbsa_code</th>\n",
       "      <th>area_name</th>\n",
       "      <th>area_state</th>\n",
       "    </tr>\n",
       "  </thead>\n",
       "  <tbody>\n",
       "    <tr>\n",
       "      <th>0</th>\n",
       "      <td>METRO10180M10180</td>\n",
       "      <td>Abilene</td>\n",
       "      <td>TX</td>\n",
       "    </tr>\n",
       "    <tr>\n",
       "      <th>1</th>\n",
       "      <td>METRO29180N22001</td>\n",
       "      <td>Acadia Parish</td>\n",
       "      <td>LA</td>\n",
       "    </tr>\n",
       "    <tr>\n",
       "      <th>2</th>\n",
       "      <td>METRO10380M10380</td>\n",
       "      <td>Aguadilla-Isabela</td>\n",
       "      <td>PR</td>\n",
       "    </tr>\n",
       "    <tr>\n",
       "      <th>3</th>\n",
       "      <td>METRO10420M10420</td>\n",
       "      <td>Akron</td>\n",
       "      <td>OH</td>\n",
       "    </tr>\n",
       "    <tr>\n",
       "      <th>4</th>\n",
       "      <td>METRO10500M10500</td>\n",
       "      <td>Albany</td>\n",
       "      <td>GA</td>\n",
       "    </tr>\n",
       "  </tbody>\n",
       "</table>\n",
       "</div>"
      ]
     },
     "execution_count": 7,
     "metadata": {},
     "output_type": "execute_result"
    }
   ],
   "execution_count": 7
  },
  {
   "metadata": {
    "ExecuteTime": {
     "end_time": "2024-04-27T02:14:11.011599Z",
     "start_time": "2024-04-27T02:14:11.003568Z"
    }
   },
   "cell_type": "code",
   "source": "hud_metro_data.isna().sum()",
   "id": "799e15435d2a5db",
   "outputs": [
    {
     "data": {
      "text/plain": [
       "cbsa_code     0\n",
       "area_name     0\n",
       "area_state    0\n",
       "dtype: int64"
      ]
     },
     "execution_count": 8,
     "metadata": {},
     "output_type": "execute_result"
    }
   ],
   "execution_count": 8
  },
  {
   "metadata": {},
   "cell_type": "markdown",
   "source": "This dataset has no missing values.",
   "id": "c28554d6ea3de3d6"
  },
  {
   "metadata": {},
   "cell_type": "markdown",
   "source": "#### Cleaning the FMR data",
   "id": "5ff1f086a8eafa0"
  },
  {
   "metadata": {
    "ExecuteTime": {
     "end_time": "2024-04-27T02:14:13.623343Z",
     "start_time": "2024-04-27T02:14:13.615670Z"
    }
   },
   "cell_type": "code",
   "source": "hud_metro_data['area_state'].unique()",
   "id": "e788dc70d666a935",
   "outputs": [
    {
     "data": {
      "text/plain": [
       "<StringArray>\n",
       "[          'TX',           'LA',           'PR',           'OH',\n",
       "           'GA',           'OR',           'NY',           'NM',\n",
       "           'KY',           'PA',           'IA',           'AK',\n",
       "           'IN',           'SC',           'MI',           'AL',\n",
       "           'WI',           'NC',           'NJ',        'GA-SC',\n",
       "           'FL',           'CA',           'MD',           'ME',\n",
       "           'MA',           'MO',           'WA',           'MS',\n",
       "           'MT',           'ND',           'VA',           'IL',\n",
       "           'ID',           'WV',        'MA-NH',           'CO',\n",
       "           'UT',           'CT',           'VT',           'TN',\n",
       "        'MO-IL',           'NV',           'WY',        'NC-SC',\n",
       "        'TN-GA',     'OH-KY-IN',        'TN-KY',        'GA-AL',\n",
       "           'OK',        'MD-WV',           'SD',        'IA-IL',\n",
       "           'DE',        'MN-WI',        'IN-KY',        'ND-MN',\n",
       "           'AR',           'MN',           'AZ',        'AR-OK',\n",
       "           'NE',           'NH',     'WV-KY-OH',           'HI',\n",
       "        'MO-KS',           'KS',        'TN-VA',        'WI-MN',\n",
       "        'ID-WA',        'UT-ID',        'KY-IN',     'TN-MS-AR',\n",
       "           'RI',        'NE-IA',  'PA-NJ-DE-MD',        'OR-WA',\n",
       "        'RI-MA',     'IA-NE-SD', 'TX-Texarkana',        'VA-NC',\n",
       "     'DC-VA-MD',        'WV-OH',        'VA-WV']\n",
       "Length: 83, dtype: string"
      ]
     },
     "execution_count": 9,
     "metadata": {},
     "output_type": "execute_result"
    }
   ],
   "execution_count": 9
  },
  {
   "metadata": {},
   "cell_type": "markdown",
   "source": "On further inspection, there is a row for which the state name [TX-Texarkana] is not correct. This can later cause an issue while merging this dataset with the BLS dataset.",
   "id": "ece77946b4ee80b6"
  },
  {
   "metadata": {
    "ExecuteTime": {
     "end_time": "2024-04-27T02:14:16.043057Z",
     "start_time": "2024-04-27T02:14:16.037475Z"
    }
   },
   "cell_type": "code",
   "source": "hud_metro_data.loc[hud_metro_data['area_state'] == 'TX-Texarkana', 'area_state'] = 'TX'",
   "id": "4b3e74a28da971b9",
   "outputs": [],
   "execution_count": 10
  },
  {
   "metadata": {},
   "cell_type": "markdown",
   "source": "After processing, the dataframe has no missing / incorrect values.",
   "id": "6bfb822966dc9fd4"
  },
  {
   "metadata": {},
   "cell_type": "markdown",
   "source": "### Merging the two datasets to get the metro areas for which both the CPI and FMR data is available.",
   "id": "6260e58da9be9beb"
  },
  {
   "metadata": {
    "ExecuteTime": {
     "end_time": "2024-04-27T02:14:19.563507Z",
     "start_time": "2024-04-27T02:14:19.540755Z"
    }
   },
   "cell_type": "code",
   "source": [
    "merge_data = pd.merge(series_id, hud_metro_data, on='area_name', how='left', suffixes=('_BLS', '_HUD'))\n",
    "merge_data.isna().sum()"
   ],
   "id": "4f361bd100cbbe44",
   "outputs": [
    {
     "data": {
      "text/plain": [
       "area_code          0\n",
       "area_name          0\n",
       "area_state_BLS     0\n",
       "cbsa_code         12\n",
       "area_state_HUD    12\n",
       "dtype: int64"
      ]
     },
     "execution_count": 11,
     "metadata": {},
     "output_type": "execute_result"
    }
   ],
   "execution_count": 11
  },
  {
   "metadata": {},
   "cell_type": "markdown",
   "source": "There are 12 rows from the BLS dataset that have no corresponding metro area in the HUD dataset. Ideally that should not be the case, HUD's database is quite extensive.",
   "id": "abc8b335a8dabe47"
  },
  {
   "metadata": {
    "ExecuteTime": {
     "end_time": "2024-04-27T02:14:21.377350Z",
     "start_time": "2024-04-27T02:14:21.366049Z"
    }
   },
   "cell_type": "code",
   "source": "merge_data[merge_data['cbsa_code'].isna()]",
   "id": "51b2b8e5d11757ae",
   "outputs": [
    {
     "data": {
      "text/plain": [
       "      area_code                              area_name area_state_BLS  \\\n",
       "0   CUURS11ASA0                Boston-Cambridge-Newton          MA-NH   \n",
       "1   CUURS12ASA0            New York-Newark-Jersey City       NY-NJ-PA   \n",
       "3   CUURS23ASA0               Chicago-Naperville-Elgin       IL-IN-WI   \n",
       "4   CUURS23BSA0                Detroit-Warren-Dearborn             MI   \n",
       "5   CUURS24ASA0        Minneapolis-St.Paul-Bloomington          MN-WI   \n",
       "8   CUURS35BSA0  Miami-Fort Lauderdale-West Palm Beach             FL   \n",
       "12  CUURS37ASA0            Dallas-Fort Worth-Arlington             TX   \n",
       "16  CUURS49ASA0         Los Angeles-Long Beach-Anaheim             CA   \n",
       "17  CUURS49BSA0          San Francisco-Oakland-Hayward             CA   \n",
       "19  CUURS49DSA0                Seattle-Tacoma-Bellevue             WA   \n",
       "21  CUURS49FSA0                                  Urban             HI   \n",
       "22  CUURS49GSA0                                  Urban             AK   \n",
       "\n",
       "   cbsa_code area_state_HUD  \n",
       "0       <NA>           <NA>  \n",
       "1       <NA>           <NA>  \n",
       "3       <NA>           <NA>  \n",
       "4       <NA>           <NA>  \n",
       "5       <NA>           <NA>  \n",
       "8       <NA>           <NA>  \n",
       "12      <NA>           <NA>  \n",
       "16      <NA>           <NA>  \n",
       "17      <NA>           <NA>  \n",
       "19      <NA>           <NA>  \n",
       "21      <NA>           <NA>  \n",
       "22      <NA>           <NA>  "
      ],
      "text/html": [
       "<div>\n",
       "<style scoped>\n",
       "    .dataframe tbody tr th:only-of-type {\n",
       "        vertical-align: middle;\n",
       "    }\n",
       "\n",
       "    .dataframe tbody tr th {\n",
       "        vertical-align: top;\n",
       "    }\n",
       "\n",
       "    .dataframe thead th {\n",
       "        text-align: right;\n",
       "    }\n",
       "</style>\n",
       "<table border=\"1\" class=\"dataframe\">\n",
       "  <thead>\n",
       "    <tr style=\"text-align: right;\">\n",
       "      <th></th>\n",
       "      <th>area_code</th>\n",
       "      <th>area_name</th>\n",
       "      <th>area_state_BLS</th>\n",
       "      <th>cbsa_code</th>\n",
       "      <th>area_state_HUD</th>\n",
       "    </tr>\n",
       "  </thead>\n",
       "  <tbody>\n",
       "    <tr>\n",
       "      <th>0</th>\n",
       "      <td>CUURS11ASA0</td>\n",
       "      <td>Boston-Cambridge-Newton</td>\n",
       "      <td>MA-NH</td>\n",
       "      <td>&lt;NA&gt;</td>\n",
       "      <td>&lt;NA&gt;</td>\n",
       "    </tr>\n",
       "    <tr>\n",
       "      <th>1</th>\n",
       "      <td>CUURS12ASA0</td>\n",
       "      <td>New York-Newark-Jersey City</td>\n",
       "      <td>NY-NJ-PA</td>\n",
       "      <td>&lt;NA&gt;</td>\n",
       "      <td>&lt;NA&gt;</td>\n",
       "    </tr>\n",
       "    <tr>\n",
       "      <th>3</th>\n",
       "      <td>CUURS23ASA0</td>\n",
       "      <td>Chicago-Naperville-Elgin</td>\n",
       "      <td>IL-IN-WI</td>\n",
       "      <td>&lt;NA&gt;</td>\n",
       "      <td>&lt;NA&gt;</td>\n",
       "    </tr>\n",
       "    <tr>\n",
       "      <th>4</th>\n",
       "      <td>CUURS23BSA0</td>\n",
       "      <td>Detroit-Warren-Dearborn</td>\n",
       "      <td>MI</td>\n",
       "      <td>&lt;NA&gt;</td>\n",
       "      <td>&lt;NA&gt;</td>\n",
       "    </tr>\n",
       "    <tr>\n",
       "      <th>5</th>\n",
       "      <td>CUURS24ASA0</td>\n",
       "      <td>Minneapolis-St.Paul-Bloomington</td>\n",
       "      <td>MN-WI</td>\n",
       "      <td>&lt;NA&gt;</td>\n",
       "      <td>&lt;NA&gt;</td>\n",
       "    </tr>\n",
       "    <tr>\n",
       "      <th>8</th>\n",
       "      <td>CUURS35BSA0</td>\n",
       "      <td>Miami-Fort Lauderdale-West Palm Beach</td>\n",
       "      <td>FL</td>\n",
       "      <td>&lt;NA&gt;</td>\n",
       "      <td>&lt;NA&gt;</td>\n",
       "    </tr>\n",
       "    <tr>\n",
       "      <th>12</th>\n",
       "      <td>CUURS37ASA0</td>\n",
       "      <td>Dallas-Fort Worth-Arlington</td>\n",
       "      <td>TX</td>\n",
       "      <td>&lt;NA&gt;</td>\n",
       "      <td>&lt;NA&gt;</td>\n",
       "    </tr>\n",
       "    <tr>\n",
       "      <th>16</th>\n",
       "      <td>CUURS49ASA0</td>\n",
       "      <td>Los Angeles-Long Beach-Anaheim</td>\n",
       "      <td>CA</td>\n",
       "      <td>&lt;NA&gt;</td>\n",
       "      <td>&lt;NA&gt;</td>\n",
       "    </tr>\n",
       "    <tr>\n",
       "      <th>17</th>\n",
       "      <td>CUURS49BSA0</td>\n",
       "      <td>San Francisco-Oakland-Hayward</td>\n",
       "      <td>CA</td>\n",
       "      <td>&lt;NA&gt;</td>\n",
       "      <td>&lt;NA&gt;</td>\n",
       "    </tr>\n",
       "    <tr>\n",
       "      <th>19</th>\n",
       "      <td>CUURS49DSA0</td>\n",
       "      <td>Seattle-Tacoma-Bellevue</td>\n",
       "      <td>WA</td>\n",
       "      <td>&lt;NA&gt;</td>\n",
       "      <td>&lt;NA&gt;</td>\n",
       "    </tr>\n",
       "    <tr>\n",
       "      <th>21</th>\n",
       "      <td>CUURS49FSA0</td>\n",
       "      <td>Urban</td>\n",
       "      <td>HI</td>\n",
       "      <td>&lt;NA&gt;</td>\n",
       "      <td>&lt;NA&gt;</td>\n",
       "    </tr>\n",
       "    <tr>\n",
       "      <th>22</th>\n",
       "      <td>CUURS49GSA0</td>\n",
       "      <td>Urban</td>\n",
       "      <td>AK</td>\n",
       "      <td>&lt;NA&gt;</td>\n",
       "      <td>&lt;NA&gt;</td>\n",
       "    </tr>\n",
       "  </tbody>\n",
       "</table>\n",
       "</div>"
      ]
     },
     "execution_count": 12,
     "metadata": {},
     "output_type": "execute_result"
    }
   ],
   "execution_count": 12
  },
  {
   "metadata": {
    "ExecuteTime": {
     "end_time": "2024-04-27T02:14:22.335971Z",
     "start_time": "2024-04-27T02:14:22.324817Z"
    }
   },
   "cell_type": "code",
   "source": "hud_metro_data[hud_metro_data['area_name'].str.contains('Boston')]",
   "id": "e096bb8970412911",
   "outputs": [
    {
     "data": {
      "text/plain": [
       "           cbsa_code                area_name area_state\n",
       "61  METRO14460MM1120  Boston-Cambridge-Quincy      MA-NH"
      ],
      "text/html": [
       "<div>\n",
       "<style scoped>\n",
       "    .dataframe tbody tr th:only-of-type {\n",
       "        vertical-align: middle;\n",
       "    }\n",
       "\n",
       "    .dataframe tbody tr th {\n",
       "        vertical-align: top;\n",
       "    }\n",
       "\n",
       "    .dataframe thead th {\n",
       "        text-align: right;\n",
       "    }\n",
       "</style>\n",
       "<table border=\"1\" class=\"dataframe\">\n",
       "  <thead>\n",
       "    <tr style=\"text-align: right;\">\n",
       "      <th></th>\n",
       "      <th>cbsa_code</th>\n",
       "      <th>area_name</th>\n",
       "      <th>area_state</th>\n",
       "    </tr>\n",
       "  </thead>\n",
       "  <tbody>\n",
       "    <tr>\n",
       "      <th>61</th>\n",
       "      <td>METRO14460MM1120</td>\n",
       "      <td>Boston-Cambridge-Quincy</td>\n",
       "      <td>MA-NH</td>\n",
       "    </tr>\n",
       "  </tbody>\n",
       "</table>\n",
       "</div>"
      ]
     },
     "execution_count": 13,
     "metadata": {},
     "output_type": "execute_result"
    }
   ],
   "execution_count": 13
  },
  {
   "metadata": {},
   "cell_type": "markdown",
   "source": "On further investigation, it is observed that the issue is arising due to some slight difference in the names. In this case, either the data from HUD or BLS is not correctly named. The names should not be different as they both are based on 'cbsa' codes. To resolve this, we can try to find the best possible match and proceed accordingly. If no match is found, then that row will be dropped.",
   "id": "a7cebe53a09c46b4"
  },
  {
   "metadata": {
    "ExecuteTime": {
     "end_time": "2024-04-27T02:14:23.631966Z",
     "start_time": "2024-04-27T02:14:23.599525Z"
    }
   },
   "cell_type": "code",
   "source": [
    "unmatched_indices = merge_data[merge_data['cbsa_code'].isna()].index\n",
    "unmatched_areas_metro = list(merge_data['area_name'][merge_data['cbsa_code'].isna()].apply(lambda x: x.split('-')[0]))\n",
    "unmatched_dict = dict(zip(unmatched_indices, unmatched_areas_metro))\n",
    "for i in unmatched_indices:\n",
    "    hud_area = hud_metro_data[hud_metro_data['area_name'].str.contains(unmatched_dict[i])]\n",
    "    if len(hud_area) > 1:\n",
    "        hud_area = hud_area[hud_area['area_state'] == merge_data['area_state_BLS'].loc[i]]\n",
    "    if len(hud_area) == 1:\n",
    "        merge_data.loc[i, 'cbsa_code'] = hud_area['cbsa_code'][hud_area['area_name'].str.contains(unmatched_dict[i])].values\n",
    "merge_data[merge_data['cbsa_code'].isna()]"
   ],
   "id": "9ef3b1f4289d9d28",
   "outputs": [
    {
     "data": {
      "text/plain": [
       "      area_code area_name area_state_BLS cbsa_code area_state_HUD\n",
       "22  CUURS49GSA0     Urban             AK      <NA>           <NA>"
      ],
      "text/html": [
       "<div>\n",
       "<style scoped>\n",
       "    .dataframe tbody tr th:only-of-type {\n",
       "        vertical-align: middle;\n",
       "    }\n",
       "\n",
       "    .dataframe tbody tr th {\n",
       "        vertical-align: top;\n",
       "    }\n",
       "\n",
       "    .dataframe thead th {\n",
       "        text-align: right;\n",
       "    }\n",
       "</style>\n",
       "<table border=\"1\" class=\"dataframe\">\n",
       "  <thead>\n",
       "    <tr style=\"text-align: right;\">\n",
       "      <th></th>\n",
       "      <th>area_code</th>\n",
       "      <th>area_name</th>\n",
       "      <th>area_state_BLS</th>\n",
       "      <th>cbsa_code</th>\n",
       "      <th>area_state_HUD</th>\n",
       "    </tr>\n",
       "  </thead>\n",
       "  <tbody>\n",
       "    <tr>\n",
       "      <th>22</th>\n",
       "      <td>CUURS49GSA0</td>\n",
       "      <td>Urban</td>\n",
       "      <td>AK</td>\n",
       "      <td>&lt;NA&gt;</td>\n",
       "      <td>&lt;NA&gt;</td>\n",
       "    </tr>\n",
       "  </tbody>\n",
       "</table>\n",
       "</div>"
      ]
     },
     "execution_count": 14,
     "metadata": {},
     "output_type": "execute_result"
    }
   ],
   "execution_count": 14
  },
  {
   "metadata": {
    "ExecuteTime": {
     "end_time": "2024-04-27T02:14:24.640426Z",
     "start_time": "2024-04-27T02:14:24.632326Z"
    }
   },
   "cell_type": "code",
   "source": "merge_data = merge_data.dropna(subset=['cbsa_code']).drop(columns=['area_state_HUD']).rename(columns={'area_state_BLS': 'area_state'})",
   "id": "c36a8bc0c45d0552",
   "outputs": [],
   "execution_count": 15
  },
  {
   "metadata": {},
   "cell_type": "markdown",
   "source": "One row (Urban Alaska) is dropped as there is no corresponding metro area in the HUD dataset.",
   "id": "1e499212f20a8ef3"
  },
  {
   "metadata": {},
   "cell_type": "markdown",
   "source": "### Selecting a metro area for analysis",
   "id": "b5b8e6923264472b"
  },
  {
   "metadata": {
    "ExecuteTime": {
     "end_time": "2024-04-27T02:14:26.621553Z",
     "start_time": "2024-04-27T02:14:26.610467Z"
    }
   },
   "cell_type": "code",
   "source": [
    "print('following is the list of available metro_areas:')\n",
    "merge_data.head(100)"
   ],
   "id": "48781aafea2d7fa1",
   "outputs": [
    {
     "name": "stdout",
     "output_type": "stream",
     "text": [
      "following is the list of available metro_areas:\n"
     ]
    },
    {
     "data": {
      "text/plain": [
       "      area_code                              area_name   area_state  \\\n",
       "0   CUURS11ASA0                Boston-Cambridge-Newton        MA-NH   \n",
       "1   CUURS12ASA0            New York-Newark-Jersey City     NY-NJ-PA   \n",
       "2   CUURS12BSA0         Philadelphia-Camden-Wilmington  PA-NJ-DE-MD   \n",
       "3   CUURS23ASA0               Chicago-Naperville-Elgin     IL-IN-WI   \n",
       "4   CUURS23BSA0                Detroit-Warren-Dearborn           MI   \n",
       "5   CUURS24ASA0        Minneapolis-St.Paul-Bloomington        MN-WI   \n",
       "6   CUURS24BSA0                              St. Louis        MO-IL   \n",
       "7   CUURS35ASA0        Washington-Arlington-Alexandria  DC-VA-MD-WV   \n",
       "8   CUURS35BSA0  Miami-Fort Lauderdale-West Palm Beach           FL   \n",
       "9   CUURS35CSA0          Atlanta-Sandy Springs-Roswell           GA   \n",
       "10  CUURS35DSA0        Tampa-St. Petersburg-Clearwater           FL   \n",
       "11  CUURS35ESA0              Baltimore-Columbia-Towson           MD   \n",
       "12  CUURS37ASA0            Dallas-Fort Worth-Arlington           TX   \n",
       "13  CUURS37BSA0       Houston-The Woodlands-Sugar Land           TX   \n",
       "14  CUURS48ASA0                Phoenix-Mesa-Scottsdale           AZ   \n",
       "15  CUURS48BSA0                 Denver-Aurora-Lakewood           CO   \n",
       "16  CUURS49ASA0         Los Angeles-Long Beach-Anaheim           CA   \n",
       "17  CUURS49BSA0          San Francisco-Oakland-Hayward           CA   \n",
       "18  CUURS49CSA0       Riverside-San Bernardino-Ontario           CA   \n",
       "19  CUURS49DSA0                Seattle-Tacoma-Bellevue           WA   \n",
       "20  CUURS49ESA0                     San Diego-Carlsbad           CA   \n",
       "21  CUURS49FSA0                                  Urban           HI   \n",
       "\n",
       "           cbsa_code  \n",
       "0   METRO14460MM1120  \n",
       "1   METRO35620MM5600  \n",
       "2   METRO37980M37980  \n",
       "3   METRO16980M16980  \n",
       "4   METRO19820M19820  \n",
       "5   METRO33460M33460  \n",
       "6   METRO41180M41180  \n",
       "7   METRO47900M47900  \n",
       "8   METRO33100MM5000  \n",
       "9   METRO12060M12060  \n",
       "10  METRO45300M45300  \n",
       "11  METRO12580M12580  \n",
       "12  METRO19100M19100  \n",
       "13  METRO26420M26420  \n",
       "14  METRO38060M38060  \n",
       "15  METRO19740M19740  \n",
       "16  METRO31080MM4480  \n",
       "17  METRO41860MM7360  \n",
       "18  METRO40140M40140  \n",
       "19  METRO42660MM7600  \n",
       "20  METRO41740M41740  \n",
       "21  METRO46520M46520  "
      ],
      "text/html": [
       "<div>\n",
       "<style scoped>\n",
       "    .dataframe tbody tr th:only-of-type {\n",
       "        vertical-align: middle;\n",
       "    }\n",
       "\n",
       "    .dataframe tbody tr th {\n",
       "        vertical-align: top;\n",
       "    }\n",
       "\n",
       "    .dataframe thead th {\n",
       "        text-align: right;\n",
       "    }\n",
       "</style>\n",
       "<table border=\"1\" class=\"dataframe\">\n",
       "  <thead>\n",
       "    <tr style=\"text-align: right;\">\n",
       "      <th></th>\n",
       "      <th>area_code</th>\n",
       "      <th>area_name</th>\n",
       "      <th>area_state</th>\n",
       "      <th>cbsa_code</th>\n",
       "    </tr>\n",
       "  </thead>\n",
       "  <tbody>\n",
       "    <tr>\n",
       "      <th>0</th>\n",
       "      <td>CUURS11ASA0</td>\n",
       "      <td>Boston-Cambridge-Newton</td>\n",
       "      <td>MA-NH</td>\n",
       "      <td>METRO14460MM1120</td>\n",
       "    </tr>\n",
       "    <tr>\n",
       "      <th>1</th>\n",
       "      <td>CUURS12ASA0</td>\n",
       "      <td>New York-Newark-Jersey City</td>\n",
       "      <td>NY-NJ-PA</td>\n",
       "      <td>METRO35620MM5600</td>\n",
       "    </tr>\n",
       "    <tr>\n",
       "      <th>2</th>\n",
       "      <td>CUURS12BSA0</td>\n",
       "      <td>Philadelphia-Camden-Wilmington</td>\n",
       "      <td>PA-NJ-DE-MD</td>\n",
       "      <td>METRO37980M37980</td>\n",
       "    </tr>\n",
       "    <tr>\n",
       "      <th>3</th>\n",
       "      <td>CUURS23ASA0</td>\n",
       "      <td>Chicago-Naperville-Elgin</td>\n",
       "      <td>IL-IN-WI</td>\n",
       "      <td>METRO16980M16980</td>\n",
       "    </tr>\n",
       "    <tr>\n",
       "      <th>4</th>\n",
       "      <td>CUURS23BSA0</td>\n",
       "      <td>Detroit-Warren-Dearborn</td>\n",
       "      <td>MI</td>\n",
       "      <td>METRO19820M19820</td>\n",
       "    </tr>\n",
       "    <tr>\n",
       "      <th>5</th>\n",
       "      <td>CUURS24ASA0</td>\n",
       "      <td>Minneapolis-St.Paul-Bloomington</td>\n",
       "      <td>MN-WI</td>\n",
       "      <td>METRO33460M33460</td>\n",
       "    </tr>\n",
       "    <tr>\n",
       "      <th>6</th>\n",
       "      <td>CUURS24BSA0</td>\n",
       "      <td>St. Louis</td>\n",
       "      <td>MO-IL</td>\n",
       "      <td>METRO41180M41180</td>\n",
       "    </tr>\n",
       "    <tr>\n",
       "      <th>7</th>\n",
       "      <td>CUURS35ASA0</td>\n",
       "      <td>Washington-Arlington-Alexandria</td>\n",
       "      <td>DC-VA-MD-WV</td>\n",
       "      <td>METRO47900M47900</td>\n",
       "    </tr>\n",
       "    <tr>\n",
       "      <th>8</th>\n",
       "      <td>CUURS35BSA0</td>\n",
       "      <td>Miami-Fort Lauderdale-West Palm Beach</td>\n",
       "      <td>FL</td>\n",
       "      <td>METRO33100MM5000</td>\n",
       "    </tr>\n",
       "    <tr>\n",
       "      <th>9</th>\n",
       "      <td>CUURS35CSA0</td>\n",
       "      <td>Atlanta-Sandy Springs-Roswell</td>\n",
       "      <td>GA</td>\n",
       "      <td>METRO12060M12060</td>\n",
       "    </tr>\n",
       "    <tr>\n",
       "      <th>10</th>\n",
       "      <td>CUURS35DSA0</td>\n",
       "      <td>Tampa-St. Petersburg-Clearwater</td>\n",
       "      <td>FL</td>\n",
       "      <td>METRO45300M45300</td>\n",
       "    </tr>\n",
       "    <tr>\n",
       "      <th>11</th>\n",
       "      <td>CUURS35ESA0</td>\n",
       "      <td>Baltimore-Columbia-Towson</td>\n",
       "      <td>MD</td>\n",
       "      <td>METRO12580M12580</td>\n",
       "    </tr>\n",
       "    <tr>\n",
       "      <th>12</th>\n",
       "      <td>CUURS37ASA0</td>\n",
       "      <td>Dallas-Fort Worth-Arlington</td>\n",
       "      <td>TX</td>\n",
       "      <td>METRO19100M19100</td>\n",
       "    </tr>\n",
       "    <tr>\n",
       "      <th>13</th>\n",
       "      <td>CUURS37BSA0</td>\n",
       "      <td>Houston-The Woodlands-Sugar Land</td>\n",
       "      <td>TX</td>\n",
       "      <td>METRO26420M26420</td>\n",
       "    </tr>\n",
       "    <tr>\n",
       "      <th>14</th>\n",
       "      <td>CUURS48ASA0</td>\n",
       "      <td>Phoenix-Mesa-Scottsdale</td>\n",
       "      <td>AZ</td>\n",
       "      <td>METRO38060M38060</td>\n",
       "    </tr>\n",
       "    <tr>\n",
       "      <th>15</th>\n",
       "      <td>CUURS48BSA0</td>\n",
       "      <td>Denver-Aurora-Lakewood</td>\n",
       "      <td>CO</td>\n",
       "      <td>METRO19740M19740</td>\n",
       "    </tr>\n",
       "    <tr>\n",
       "      <th>16</th>\n",
       "      <td>CUURS49ASA0</td>\n",
       "      <td>Los Angeles-Long Beach-Anaheim</td>\n",
       "      <td>CA</td>\n",
       "      <td>METRO31080MM4480</td>\n",
       "    </tr>\n",
       "    <tr>\n",
       "      <th>17</th>\n",
       "      <td>CUURS49BSA0</td>\n",
       "      <td>San Francisco-Oakland-Hayward</td>\n",
       "      <td>CA</td>\n",
       "      <td>METRO41860MM7360</td>\n",
       "    </tr>\n",
       "    <tr>\n",
       "      <th>18</th>\n",
       "      <td>CUURS49CSA0</td>\n",
       "      <td>Riverside-San Bernardino-Ontario</td>\n",
       "      <td>CA</td>\n",
       "      <td>METRO40140M40140</td>\n",
       "    </tr>\n",
       "    <tr>\n",
       "      <th>19</th>\n",
       "      <td>CUURS49DSA0</td>\n",
       "      <td>Seattle-Tacoma-Bellevue</td>\n",
       "      <td>WA</td>\n",
       "      <td>METRO42660MM7600</td>\n",
       "    </tr>\n",
       "    <tr>\n",
       "      <th>20</th>\n",
       "      <td>CUURS49ESA0</td>\n",
       "      <td>San Diego-Carlsbad</td>\n",
       "      <td>CA</td>\n",
       "      <td>METRO41740M41740</td>\n",
       "    </tr>\n",
       "    <tr>\n",
       "      <th>21</th>\n",
       "      <td>CUURS49FSA0</td>\n",
       "      <td>Urban</td>\n",
       "      <td>HI</td>\n",
       "      <td>METRO46520M46520</td>\n",
       "    </tr>\n",
       "  </tbody>\n",
       "</table>\n",
       "</div>"
      ]
     },
     "execution_count": 16,
     "metadata": {},
     "output_type": "execute_result"
    }
   ],
   "execution_count": 16
  },
  {
   "metadata": {
    "ExecuteTime": {
     "end_time": "2024-04-27T02:14:33.829221Z",
     "start_time": "2024-04-27T02:14:29.682921Z"
    }
   },
   "cell_type": "code",
   "source": "index = fetchData.select_area(merge_data)",
   "id": "931d1be0aa1e828b",
   "outputs": [
    {
     "name": "stdout",
     "output_type": "stream",
     "text": [
      "Tampa-St. Petersburg-Clearwater has been selected\n"
     ]
    }
   ],
   "execution_count": 17
  },
  {
   "metadata": {},
   "cell_type": "markdown",
   "source": "### Loading State data for the selected metro area",
   "id": "70e4da7687fd8472"
  },
  {
   "metadata": {
    "ExecuteTime": {
     "end_time": "2024-04-27T02:14:37.057845Z",
     "start_time": "2024-04-27T02:14:37.051397Z"
    }
   },
   "cell_type": "code",
   "source": [
    "state_code = merge_data['area_state'].iloc[int(index)].split('-')[0]\n",
    "state_code"
   ],
   "id": "b97c3735824b492f",
   "outputs": [
    {
     "data": {
      "text/plain": [
       "'FL'"
      ]
     },
     "execution_count": 18,
     "metadata": {},
     "output_type": "execute_result"
    }
   ],
   "execution_count": 18
  },
  {
   "metadata": {
    "ExecuteTime": {
     "end_time": "2024-04-27T02:15:11.976616Z",
     "start_time": "2024-04-27T02:14:38.273850Z"
    }
   },
   "cell_type": "code",
   "source": [
    "state_data = fetchData.fetch_state_fmr_data(api_config=API_file, start_year=analysis_start_year, end_year=analysis_end_year, state_code=state_code, implementation_month=FMR_implementation_month)\n",
    "state_data.head()"
   ],
   "id": "27477061c5ad31ea",
   "outputs": [
    {
     "data": {
      "text/plain": [
       "               code  Efficiency  One-Bedroom  Two-Bedroom  Three-Bedroom  \\\n",
       "0  METRO27260N12003       477.0        645.0        752.0          951.0   \n",
       "1  METRO15980M15980       687.0        741.0        920.0         1194.0   \n",
       "2  METRO18880M18880       754.0        810.0        961.0         1382.0   \n",
       "3  METRO19660M19660       608.0        764.0        959.0         1298.0   \n",
       "4  METRO33100MM2680       829.0       1023.0       1307.0         1883.0   \n",
       "\n",
       "   Four-Bedroom       year  \n",
       "0        1266.0 2017-10-01  \n",
       "1        1331.0 2017-10-01  \n",
       "2        1680.0 2017-10-01  \n",
       "3        1454.0 2017-10-01  \n",
       "4        2303.0 2017-10-01  "
      ],
      "text/html": [
       "<div>\n",
       "<style scoped>\n",
       "    .dataframe tbody tr th:only-of-type {\n",
       "        vertical-align: middle;\n",
       "    }\n",
       "\n",
       "    .dataframe tbody tr th {\n",
       "        vertical-align: top;\n",
       "    }\n",
       "\n",
       "    .dataframe thead th {\n",
       "        text-align: right;\n",
       "    }\n",
       "</style>\n",
       "<table border=\"1\" class=\"dataframe\">\n",
       "  <thead>\n",
       "    <tr style=\"text-align: right;\">\n",
       "      <th></th>\n",
       "      <th>code</th>\n",
       "      <th>Efficiency</th>\n",
       "      <th>One-Bedroom</th>\n",
       "      <th>Two-Bedroom</th>\n",
       "      <th>Three-Bedroom</th>\n",
       "      <th>Four-Bedroom</th>\n",
       "      <th>year</th>\n",
       "    </tr>\n",
       "  </thead>\n",
       "  <tbody>\n",
       "    <tr>\n",
       "      <th>0</th>\n",
       "      <td>METRO27260N12003</td>\n",
       "      <td>477.0</td>\n",
       "      <td>645.0</td>\n",
       "      <td>752.0</td>\n",
       "      <td>951.0</td>\n",
       "      <td>1266.0</td>\n",
       "      <td>2017-10-01</td>\n",
       "    </tr>\n",
       "    <tr>\n",
       "      <th>1</th>\n",
       "      <td>METRO15980M15980</td>\n",
       "      <td>687.0</td>\n",
       "      <td>741.0</td>\n",
       "      <td>920.0</td>\n",
       "      <td>1194.0</td>\n",
       "      <td>1331.0</td>\n",
       "      <td>2017-10-01</td>\n",
       "    </tr>\n",
       "    <tr>\n",
       "      <th>2</th>\n",
       "      <td>METRO18880M18880</td>\n",
       "      <td>754.0</td>\n",
       "      <td>810.0</td>\n",
       "      <td>961.0</td>\n",
       "      <td>1382.0</td>\n",
       "      <td>1680.0</td>\n",
       "      <td>2017-10-01</td>\n",
       "    </tr>\n",
       "    <tr>\n",
       "      <th>3</th>\n",
       "      <td>METRO19660M19660</td>\n",
       "      <td>608.0</td>\n",
       "      <td>764.0</td>\n",
       "      <td>959.0</td>\n",
       "      <td>1298.0</td>\n",
       "      <td>1454.0</td>\n",
       "      <td>2017-10-01</td>\n",
       "    </tr>\n",
       "    <tr>\n",
       "      <th>4</th>\n",
       "      <td>METRO33100MM2680</td>\n",
       "      <td>829.0</td>\n",
       "      <td>1023.0</td>\n",
       "      <td>1307.0</td>\n",
       "      <td>1883.0</td>\n",
       "      <td>2303.0</td>\n",
       "      <td>2017-10-01</td>\n",
       "    </tr>\n",
       "  </tbody>\n",
       "</table>\n",
       "</div>"
      ]
     },
     "execution_count": 19,
     "metadata": {},
     "output_type": "execute_result"
    }
   ],
   "execution_count": 19
  },
  {
   "metadata": {},
   "cell_type": "markdown",
   "source": "### Loading CPI data for the selected metro area",
   "id": "7ce7b0b2caae5549"
  },
  {
   "metadata": {
    "ExecuteTime": {
     "end_time": "2024-04-27T02:15:45.634949Z",
     "start_time": "2024-04-27T02:15:45.628908Z"
    }
   },
   "cell_type": "code",
   "source": [
    "cpi_id = merge_data['area_code'].iloc[int(index)]\n",
    "cpi_id"
   ],
   "id": "bfe00c099915262a",
   "outputs": [
    {
     "data": {
      "text/plain": [
       "'CUURS35DSA0'"
      ]
     },
     "execution_count": 20,
     "metadata": {},
     "output_type": "execute_result"
    }
   ],
   "execution_count": 20
  },
  {
   "metadata": {
    "ExecuteTime": {
     "end_time": "2024-04-27T02:15:47.527796Z",
     "start_time": "2024-04-27T02:15:46.456251Z"
    }
   },
   "cell_type": "code",
   "source": [
    "cpi_data = fetchData.fetch_metro_cpi_bls(api_config=API_file, area_code=cpi_id, start_year=analysis_start_year, end_year=analysis_end_year)\n",
    "cpi_data.head()"
   ],
   "id": "78d0d19ca2b0c9b0",
   "outputs": [
    {
     "data": {
      "text/plain": [
       "Month          01          03          05          07          09          11\n",
       "year                                                                         \n",
       "2017         <NA>        <NA>        <NA>        <NA>        <NA>  220.102005\n",
       "2018   221.794006  223.156998  224.026993  224.608002  225.873993  225.246994\n",
       "2019   222.774002  226.927002  229.018005     229.334  229.218994  229.740005\n",
       "2020   231.257996  231.619003  231.031998  233.447006  236.804001  236.988998\n",
       "2021   239.134995  242.910004  245.419006  248.811005  251.220993  255.850998"
      ],
      "text/html": [
       "<div>\n",
       "<style scoped>\n",
       "    .dataframe tbody tr th:only-of-type {\n",
       "        vertical-align: middle;\n",
       "    }\n",
       "\n",
       "    .dataframe tbody tr th {\n",
       "        vertical-align: top;\n",
       "    }\n",
       "\n",
       "    .dataframe thead th {\n",
       "        text-align: right;\n",
       "    }\n",
       "</style>\n",
       "<table border=\"1\" class=\"dataframe\">\n",
       "  <thead>\n",
       "    <tr style=\"text-align: right;\">\n",
       "      <th>Month</th>\n",
       "      <th>01</th>\n",
       "      <th>03</th>\n",
       "      <th>05</th>\n",
       "      <th>07</th>\n",
       "      <th>09</th>\n",
       "      <th>11</th>\n",
       "    </tr>\n",
       "    <tr>\n",
       "      <th>year</th>\n",
       "      <th></th>\n",
       "      <th></th>\n",
       "      <th></th>\n",
       "      <th></th>\n",
       "      <th></th>\n",
       "      <th></th>\n",
       "    </tr>\n",
       "  </thead>\n",
       "  <tbody>\n",
       "    <tr>\n",
       "      <th>2017</th>\n",
       "      <td>&lt;NA&gt;</td>\n",
       "      <td>&lt;NA&gt;</td>\n",
       "      <td>&lt;NA&gt;</td>\n",
       "      <td>&lt;NA&gt;</td>\n",
       "      <td>&lt;NA&gt;</td>\n",
       "      <td>220.102005</td>\n",
       "    </tr>\n",
       "    <tr>\n",
       "      <th>2018</th>\n",
       "      <td>221.794006</td>\n",
       "      <td>223.156998</td>\n",
       "      <td>224.026993</td>\n",
       "      <td>224.608002</td>\n",
       "      <td>225.873993</td>\n",
       "      <td>225.246994</td>\n",
       "    </tr>\n",
       "    <tr>\n",
       "      <th>2019</th>\n",
       "      <td>222.774002</td>\n",
       "      <td>226.927002</td>\n",
       "      <td>229.018005</td>\n",
       "      <td>229.334</td>\n",
       "      <td>229.218994</td>\n",
       "      <td>229.740005</td>\n",
       "    </tr>\n",
       "    <tr>\n",
       "      <th>2020</th>\n",
       "      <td>231.257996</td>\n",
       "      <td>231.619003</td>\n",
       "      <td>231.031998</td>\n",
       "      <td>233.447006</td>\n",
       "      <td>236.804001</td>\n",
       "      <td>236.988998</td>\n",
       "    </tr>\n",
       "    <tr>\n",
       "      <th>2021</th>\n",
       "      <td>239.134995</td>\n",
       "      <td>242.910004</td>\n",
       "      <td>245.419006</td>\n",
       "      <td>248.811005</td>\n",
       "      <td>251.220993</td>\n",
       "      <td>255.850998</td>\n",
       "    </tr>\n",
       "  </tbody>\n",
       "</table>\n",
       "</div>"
      ]
     },
     "execution_count": 21,
     "metadata": {},
     "output_type": "execute_result"
    }
   ],
   "execution_count": 21
  },
  {
   "metadata": {},
   "cell_type": "markdown",
   "source": "### Loading FMR data for the selected metro area",
   "id": "b20dcce54e4439d6"
  },
  {
   "metadata": {
    "ExecuteTime": {
     "end_time": "2024-04-27T02:15:49.197383Z",
     "start_time": "2024-04-27T02:15:49.191108Z"
    }
   },
   "cell_type": "code",
   "source": [
    "cbsa_code = merge_data['cbsa_code'].iloc[int(index)]\n",
    "cbsa_code"
   ],
   "id": "8f542fdc89747959",
   "outputs": [
    {
     "data": {
      "text/plain": [
       "'METRO45300M45300'"
      ]
     },
     "execution_count": 22,
     "metadata": {},
     "output_type": "execute_result"
    }
   ],
   "execution_count": 22
  },
  {
   "metadata": {
    "ExecuteTime": {
     "end_time": "2024-04-27T02:15:49.898445Z",
     "start_time": "2024-04-27T02:15:49.891288Z"
    }
   },
   "cell_type": "code",
   "source": "cbsa_data = state_data[state_data['code'] == cbsa_code].reset_index(drop=True)",
   "id": "4c23d584351d0346",
   "outputs": [],
   "execution_count": 23
  },
  {
   "metadata": {
    "ExecuteTime": {
     "end_time": "2024-04-27T02:15:50.431863Z",
     "start_time": "2024-04-27T02:15:50.420061Z"
    }
   },
   "cell_type": "code",
   "source": "cbsa_data",
   "id": "f8c1615a04b1b1fe",
   "outputs": [
    {
     "data": {
      "text/plain": [
       "               code  Efficiency  One-Bedroom  Two-Bedroom  Three-Bedroom  \\\n",
       "0  METRO45300M45300       714.0        815.0       1014.0         1341.0   \n",
       "1  METRO45300M45300       765.0        842.0       1045.0         1373.0   \n",
       "2  METRO45300M45300       860.0        916.0       1133.0         1485.0   \n",
       "3  METRO45300M45300       935.0        981.0       1206.0         1575.0   \n",
       "4  METRO45300M45300       989.0       1040.0       1271.0         1651.0   \n",
       "5  METRO45300M45300      1044.0       1110.0       1347.0         1732.0   \n",
       "6  METRO45300M45300      1291.0       1381.0       1659.0         2123.0   \n",
       "7  METRO45300M45300      1449.0       1562.0       1851.0         2367.0   \n",
       "\n",
       "   Four-Bedroom       year  \n",
       "0        1609.0 2017-10-01  \n",
       "1        1656.0 2018-10-01  \n",
       "2        1794.0 2019-10-01  \n",
       "3        1925.0 2020-10-01  \n",
       "4        2028.0 2021-10-01  \n",
       "5        2133.0 2022-10-01  \n",
       "6        2603.0 2023-10-01  \n",
       "7        2888.0 2024-10-01  "
      ],
      "text/html": [
       "<div>\n",
       "<style scoped>\n",
       "    .dataframe tbody tr th:only-of-type {\n",
       "        vertical-align: middle;\n",
       "    }\n",
       "\n",
       "    .dataframe tbody tr th {\n",
       "        vertical-align: top;\n",
       "    }\n",
       "\n",
       "    .dataframe thead th {\n",
       "        text-align: right;\n",
       "    }\n",
       "</style>\n",
       "<table border=\"1\" class=\"dataframe\">\n",
       "  <thead>\n",
       "    <tr style=\"text-align: right;\">\n",
       "      <th></th>\n",
       "      <th>code</th>\n",
       "      <th>Efficiency</th>\n",
       "      <th>One-Bedroom</th>\n",
       "      <th>Two-Bedroom</th>\n",
       "      <th>Three-Bedroom</th>\n",
       "      <th>Four-Bedroom</th>\n",
       "      <th>year</th>\n",
       "    </tr>\n",
       "  </thead>\n",
       "  <tbody>\n",
       "    <tr>\n",
       "      <th>0</th>\n",
       "      <td>METRO45300M45300</td>\n",
       "      <td>714.0</td>\n",
       "      <td>815.0</td>\n",
       "      <td>1014.0</td>\n",
       "      <td>1341.0</td>\n",
       "      <td>1609.0</td>\n",
       "      <td>2017-10-01</td>\n",
       "    </tr>\n",
       "    <tr>\n",
       "      <th>1</th>\n",
       "      <td>METRO45300M45300</td>\n",
       "      <td>765.0</td>\n",
       "      <td>842.0</td>\n",
       "      <td>1045.0</td>\n",
       "      <td>1373.0</td>\n",
       "      <td>1656.0</td>\n",
       "      <td>2018-10-01</td>\n",
       "    </tr>\n",
       "    <tr>\n",
       "      <th>2</th>\n",
       "      <td>METRO45300M45300</td>\n",
       "      <td>860.0</td>\n",
       "      <td>916.0</td>\n",
       "      <td>1133.0</td>\n",
       "      <td>1485.0</td>\n",
       "      <td>1794.0</td>\n",
       "      <td>2019-10-01</td>\n",
       "    </tr>\n",
       "    <tr>\n",
       "      <th>3</th>\n",
       "      <td>METRO45300M45300</td>\n",
       "      <td>935.0</td>\n",
       "      <td>981.0</td>\n",
       "      <td>1206.0</td>\n",
       "      <td>1575.0</td>\n",
       "      <td>1925.0</td>\n",
       "      <td>2020-10-01</td>\n",
       "    </tr>\n",
       "    <tr>\n",
       "      <th>4</th>\n",
       "      <td>METRO45300M45300</td>\n",
       "      <td>989.0</td>\n",
       "      <td>1040.0</td>\n",
       "      <td>1271.0</td>\n",
       "      <td>1651.0</td>\n",
       "      <td>2028.0</td>\n",
       "      <td>2021-10-01</td>\n",
       "    </tr>\n",
       "    <tr>\n",
       "      <th>5</th>\n",
       "      <td>METRO45300M45300</td>\n",
       "      <td>1044.0</td>\n",
       "      <td>1110.0</td>\n",
       "      <td>1347.0</td>\n",
       "      <td>1732.0</td>\n",
       "      <td>2133.0</td>\n",
       "      <td>2022-10-01</td>\n",
       "    </tr>\n",
       "    <tr>\n",
       "      <th>6</th>\n",
       "      <td>METRO45300M45300</td>\n",
       "      <td>1291.0</td>\n",
       "      <td>1381.0</td>\n",
       "      <td>1659.0</td>\n",
       "      <td>2123.0</td>\n",
       "      <td>2603.0</td>\n",
       "      <td>2023-10-01</td>\n",
       "    </tr>\n",
       "    <tr>\n",
       "      <th>7</th>\n",
       "      <td>METRO45300M45300</td>\n",
       "      <td>1449.0</td>\n",
       "      <td>1562.0</td>\n",
       "      <td>1851.0</td>\n",
       "      <td>2367.0</td>\n",
       "      <td>2888.0</td>\n",
       "      <td>2024-10-01</td>\n",
       "    </tr>\n",
       "  </tbody>\n",
       "</table>\n",
       "</div>"
      ]
     },
     "execution_count": 24,
     "metadata": {},
     "output_type": "execute_result"
    }
   ],
   "execution_count": 24
  },
  {
   "metadata": {},
   "cell_type": "markdown",
   "source": "## ",
   "id": "22e9a7002652645d"
  },
  {
   "metadata": {},
   "cell_type": "markdown",
   "source": "## Identifying Lag in CPI and FMR",
   "id": "3c6948010abc34c6"
  },
  {
   "metadata": {
    "ExecuteTime": {
     "end_time": "2024-04-27T02:15:52.207081Z",
     "start_time": "2024-04-27T02:15:52.180527Z"
    }
   },
   "cell_type": "code",
   "source": [
    "cpi_data_transformed = transformData.transform_cpi_data(cpi_data)\n",
    "cpi_data_transformed.tail()"
   ],
   "id": "4a03ea8786ccbe7e",
   "outputs": [
    {
     "data": {
      "text/plain": [
       "                   CPI\n",
       "Date                  \n",
       "2023-03-01     288.319\n",
       "2023-05-01  293.269012\n",
       "2023-07-01  292.973999\n",
       "2023-09-01  296.145996\n",
       "2023-11-01  295.028992"
      ],
      "text/html": [
       "<div>\n",
       "<style scoped>\n",
       "    .dataframe tbody tr th:only-of-type {\n",
       "        vertical-align: middle;\n",
       "    }\n",
       "\n",
       "    .dataframe tbody tr th {\n",
       "        vertical-align: top;\n",
       "    }\n",
       "\n",
       "    .dataframe thead th {\n",
       "        text-align: right;\n",
       "    }\n",
       "</style>\n",
       "<table border=\"1\" class=\"dataframe\">\n",
       "  <thead>\n",
       "    <tr style=\"text-align: right;\">\n",
       "      <th></th>\n",
       "      <th>CPI</th>\n",
       "    </tr>\n",
       "    <tr>\n",
       "      <th>Date</th>\n",
       "      <th></th>\n",
       "    </tr>\n",
       "  </thead>\n",
       "  <tbody>\n",
       "    <tr>\n",
       "      <th>2023-03-01</th>\n",
       "      <td>288.319</td>\n",
       "    </tr>\n",
       "    <tr>\n",
       "      <th>2023-05-01</th>\n",
       "      <td>293.269012</td>\n",
       "    </tr>\n",
       "    <tr>\n",
       "      <th>2023-07-01</th>\n",
       "      <td>292.973999</td>\n",
       "    </tr>\n",
       "    <tr>\n",
       "      <th>2023-09-01</th>\n",
       "      <td>296.145996</td>\n",
       "    </tr>\n",
       "    <tr>\n",
       "      <th>2023-11-01</th>\n",
       "      <td>295.028992</td>\n",
       "    </tr>\n",
       "  </tbody>\n",
       "</table>\n",
       "</div>"
      ]
     },
     "execution_count": 25,
     "metadata": {},
     "output_type": "execute_result"
    }
   ],
   "execution_count": 25
  },
  {
   "metadata": {
    "ExecuteTime": {
     "end_time": "2024-04-27T02:15:53.028555Z",
     "start_time": "2024-04-27T02:15:53.003728Z"
    }
   },
   "cell_type": "code",
   "source": "combined_data= transformData.smooth_and_merge(fmr=cbsa_data, cpi=cpi_data_transformed, start_month=FMR_implementation_month)",
   "id": "1db2a01f3962f1b",
   "outputs": [],
   "execution_count": 26
  },
  {
   "metadata": {
    "ExecuteTime": {
     "end_time": "2024-04-27T02:15:53.739968Z",
     "start_time": "2024-04-27T02:15:53.725363Z"
    }
   },
   "cell_type": "code",
   "source": [
    "combined_pct_chg = (combined_data-combined_data.shift(1)) / combined_data.shift(1)\n",
    "combined_pct_chg"
   ],
   "id": "21806ee314d74e41",
   "outputs": [
    {
     "data": {
      "text/plain": [
       "            Efficiency  One-Bedroom  Two-Bedroom  Three-Bedroom  Four-Bedroom  \\\n",
       "2017-10-01        <NA>         <NA>         <NA>           <NA>          <NA>   \n",
       "2018-10-01    0.071429     0.033129     0.030572       0.023863      0.029211   \n",
       "2019-10-01    0.124183     0.087886     0.084211       0.081573      0.083333   \n",
       "2020-10-01    0.087209     0.070961     0.064431       0.060606      0.073021   \n",
       "2021-10-01    0.057754     0.060143     0.053897       0.048254      0.053506   \n",
       "2022-10-01    0.055612     0.067308     0.059795       0.049061      0.051775   \n",
       "2023-10-01     0.23659     0.244144     0.231626       0.225751      0.220347   \n",
       "\n",
       "                 CPI  \n",
       "2017-10-01      <NA>  \n",
       "2018-10-01  0.017138  \n",
       "2019-10-01  0.023032  \n",
       "2020-10-01  0.050638  \n",
       "2021-10-01  0.101396  \n",
       "2022-10-01  0.076499  \n",
       "2023-10-01  0.019468  "
      ],
      "text/html": [
       "<div>\n",
       "<style scoped>\n",
       "    .dataframe tbody tr th:only-of-type {\n",
       "        vertical-align: middle;\n",
       "    }\n",
       "\n",
       "    .dataframe tbody tr th {\n",
       "        vertical-align: top;\n",
       "    }\n",
       "\n",
       "    .dataframe thead th {\n",
       "        text-align: right;\n",
       "    }\n",
       "</style>\n",
       "<table border=\"1\" class=\"dataframe\">\n",
       "  <thead>\n",
       "    <tr style=\"text-align: right;\">\n",
       "      <th></th>\n",
       "      <th>Efficiency</th>\n",
       "      <th>One-Bedroom</th>\n",
       "      <th>Two-Bedroom</th>\n",
       "      <th>Three-Bedroom</th>\n",
       "      <th>Four-Bedroom</th>\n",
       "      <th>CPI</th>\n",
       "    </tr>\n",
       "  </thead>\n",
       "  <tbody>\n",
       "    <tr>\n",
       "      <th>2017-10-01</th>\n",
       "      <td>&lt;NA&gt;</td>\n",
       "      <td>&lt;NA&gt;</td>\n",
       "      <td>&lt;NA&gt;</td>\n",
       "      <td>&lt;NA&gt;</td>\n",
       "      <td>&lt;NA&gt;</td>\n",
       "      <td>&lt;NA&gt;</td>\n",
       "    </tr>\n",
       "    <tr>\n",
       "      <th>2018-10-01</th>\n",
       "      <td>0.071429</td>\n",
       "      <td>0.033129</td>\n",
       "      <td>0.030572</td>\n",
       "      <td>0.023863</td>\n",
       "      <td>0.029211</td>\n",
       "      <td>0.017138</td>\n",
       "    </tr>\n",
       "    <tr>\n",
       "      <th>2019-10-01</th>\n",
       "      <td>0.124183</td>\n",
       "      <td>0.087886</td>\n",
       "      <td>0.084211</td>\n",
       "      <td>0.081573</td>\n",
       "      <td>0.083333</td>\n",
       "      <td>0.023032</td>\n",
       "    </tr>\n",
       "    <tr>\n",
       "      <th>2020-10-01</th>\n",
       "      <td>0.087209</td>\n",
       "      <td>0.070961</td>\n",
       "      <td>0.064431</td>\n",
       "      <td>0.060606</td>\n",
       "      <td>0.073021</td>\n",
       "      <td>0.050638</td>\n",
       "    </tr>\n",
       "    <tr>\n",
       "      <th>2021-10-01</th>\n",
       "      <td>0.057754</td>\n",
       "      <td>0.060143</td>\n",
       "      <td>0.053897</td>\n",
       "      <td>0.048254</td>\n",
       "      <td>0.053506</td>\n",
       "      <td>0.101396</td>\n",
       "    </tr>\n",
       "    <tr>\n",
       "      <th>2022-10-01</th>\n",
       "      <td>0.055612</td>\n",
       "      <td>0.067308</td>\n",
       "      <td>0.059795</td>\n",
       "      <td>0.049061</td>\n",
       "      <td>0.051775</td>\n",
       "      <td>0.076499</td>\n",
       "    </tr>\n",
       "    <tr>\n",
       "      <th>2023-10-01</th>\n",
       "      <td>0.23659</td>\n",
       "      <td>0.244144</td>\n",
       "      <td>0.231626</td>\n",
       "      <td>0.225751</td>\n",
       "      <td>0.220347</td>\n",
       "      <td>0.019468</td>\n",
       "    </tr>\n",
       "  </tbody>\n",
       "</table>\n",
       "</div>"
      ]
     },
     "execution_count": 27,
     "metadata": {},
     "output_type": "execute_result"
    }
   ],
   "execution_count": 27
  },
  {
   "metadata": {
    "ExecuteTime": {
     "end_time": "2024-04-27T02:15:55.157004Z",
     "start_time": "2024-04-27T02:15:54.779204Z"
    }
   },
   "cell_type": "code",
   "source": "combined_pct_chg.plot(kind='line', figsize=(10, 6))",
   "id": "7755acf0b960a15f",
   "outputs": [
    {
     "data": {
      "text/plain": [
       "<Axes: >"
      ]
     },
     "execution_count": 28,
     "metadata": {},
     "output_type": "execute_result"
    },
    {
     "data": {
      "text/plain": [
       "<Figure size 1000x600 with 1 Axes>"
      ],
      "image/png": "[encoded data removed]"
     },
     "metadata": {},
     "output_type": "display_data"
    }
   ],
   "execution_count": 28
  },
  {
   "metadata": {
    "ExecuteTime": {
     "end_time": "2024-04-27T02:17:26.115893Z",
     "start_time": "2024-04-27T02:17:25.922280Z"
    }
   },
   "cell_type": "code",
   "source": [
    "combined_1_yr_shift = combined_pct_chg.copy()\n",
    "combined_1_yr_shift['CPI'] = combined_1_yr_shift['CPI'].shift(2)\n",
    "combined_1_yr_shift['mean_rent'] = combined_1_yr_shift[['Efficiency', 'One-Bedroom', 'Two-Bedroom', 'Three-Bedroom', 'Four-Bedroom']].mean(axis=1)\n",
    "combined_1_yr_shift = (combined_1_yr_shift - combined_1_yr_shift.mean())/combined_1_yr_shift.std()\n",
    "combined_1_yr_shift[['mean_rent', 'CPI']].plot(kind='line', figsize=(10, 6))"
   ],
   "id": "310418d0595a3e33",
   "outputs": [
    {
     "data": {
      "text/plain": [
       "<Axes: >"
      ]
     },
     "execution_count": 35,
     "metadata": {},
     "output_type": "execute_result"
    },
    {
     "data": {
      "text/plain": [
       "<Figure size 1000x600 with 1 Axes>"
      ],
      "image/png": "[encoded data removed]"
     },
     "metadata": {},
     "output_type": "display_data"
    }
   ],
   "execution_count": 35
  },
  {
   "metadata": {},
   "cell_type": "code",
   "source": "",
   "id": "54972730645b5d4d",
   "outputs": [],
   "execution_count": null
  }
 ],
 "metadata": {
  "kernelspec": {
   "display_name": "Python 3",
   "language": "python",
   "name": "python3"
  },
  "language_info": {
   "codemirror_mode": {
    "name": "ipython",
    "version": 2
   },
   "file_extension": ".py",
   "mimetype": "text/x-python",
   "name": "python",
   "nbconvert_exporter": "python",
   "pygments_lexer": "ipython2",
   "version": "2.7.6"
  }
 },
 "nbformat": 4,
 "nbformat_minor": 5
}
